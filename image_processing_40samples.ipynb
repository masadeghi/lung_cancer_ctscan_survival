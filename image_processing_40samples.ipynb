{
  "nbformat": 4,
  "nbformat_minor": 0,
  "metadata": {
    "colab": {
      "provenance": [],
      "toc_visible": true,
      "authorship_tag": "ABX9TyMbxaBU1asQphGysUnVY8/Y",
      "include_colab_link": true
    },
    "kernelspec": {
      "name": "python3",
      "display_name": "Python 3"
    },
    "language_info": {
      "name": "python"
    },
    "accelerator": "GPU",
    "gpuClass": "standard"
  },
  "cells": [
    {
      "cell_type": "markdown",
      "metadata": {
        "id": "view-in-github",
        "colab_type": "text"
      },
      "source": [
        "<a href=\"https://colab.research.google.com/github/masadeghi/lung_cancer_ctscan_survival/blob/main/image_processing_40samples.ipynb\" target=\"_parent\"><img src=\"https://colab.research.google.com/assets/colab-badge.svg\" alt=\"Open In Colab\"/></a>"
      ]
    },
    {
      "cell_type": "markdown",
      "source": [
        "# Dependencies"
      ],
      "metadata": {
        "id": "da4-1VeRAMi3"
      }
    },
    {
      "cell_type": "code",
      "source": [
        "%%capture\n",
        "!{sys.executable} -m pip install --upgrade --pre -q \"itk==5.3rc4.post3\"\n",
        "!{sys.executable} -m pip install --upgrade --pre -q \"itkwidgets[all]==1.0a20\" imjoy_elfinder\n",
        "!pip install SimpleITK\n",
        "!pip install pydicom\n",
        "!pip install nibabel\n",
        "!pip install lifelines\n",
        "!pip uninstall scikit-learn -y\n",
        "!pip install -U scikit-learn # To update scikit-learn so that it is compatible with scikit-survival\n",
        "!pip install scikit-survival"
      ],
      "metadata": {
        "id": "ZpvPFncQhVlI"
      },
      "execution_count": 62,
      "outputs": []
    },
    {
      "cell_type": "code",
      "execution_count": 63,
      "metadata": {
        "id": "AISyj2EU0TkT"
      },
      "outputs": [],
      "source": [
        "# download tcia_utils\n",
        "tcia_utils_text = requests.get(\"https://github.com/kirbyju/TCIA_Notebooks/raw/main/tcia_utils.py\")\n",
        "with open('tcia_utils.py', 'wb') as f:\n",
        "    f.write(tcia_utils_text.content)"
      ]
    },
    {
      "cell_type": "code",
      "source": [
        "import sys\n",
        "import os\n",
        "import requests\n",
        "import random\n",
        "import glob\n",
        "from typing import Any, Dict, Iterable, Sequence, Tuple, Optional, Union\n",
        "from pathlib import Path\n",
        "\n",
        "import pandas as pd\n",
        "import numpy as np\n",
        "import matplotlib.pyplot as plt\n",
        "from scipy import ndimage\n",
        "\n",
        "import tcia_utils as tcia\n",
        "\n",
        "import itk\n",
        "import pydicom\n",
        "import SimpleITK as sitk\n",
        "import nibabel as nib\n",
        "from itkwidgets import view\n",
        "\n",
        "import tensorflow as tf\n",
        "# import tensorflow.compat.v2.summary as summary\n",
        "from tensorflow import keras\n",
        "# from tensorflow.python.ops import summary_ops_v2\n",
        "from tensorflow.keras import layers\n",
        "\n",
        "from sksurv.nonparametric import kaplan_meier_estimator\n",
        "from sksurv.metrics import concordance_index_censored\n",
        "\n",
        "import lifelines\n",
        "from lifelines import KaplanMeierFitter as KM\n",
        "from lifelines import AalenAdditiveFitter\n",
        "from lifelines import CoxPHFitter"
      ],
      "metadata": {
        "id": "Y99kTZFEALHt"
      },
      "execution_count": 64,
      "outputs": []
    },
    {
      "cell_type": "markdown",
      "source": [
        "# Import data from TCIA"
      ],
      "metadata": {
        "id": "4HoDJrAG9wr7"
      }
    },
    {
      "cell_type": "code",
      "source": [
        "# Shared cart with only the CT scans (without the reconstruct files) of the NSCLC-Radiomics dataset\n",
        "# Full dataset: https://nbia.cancerimagingarchive.net/nbia-search/?saved-cart=nbia-56151670240280774\n",
        "\n",
        "# data = tcia.getSharedCart(name = \"nbia-56151670240280774\")\n",
        "# nsclc_data = tcia.downloadSeries(data, csv_filename = \"my_shared_cart\")\n",
        "# display(nsclc_data)\n",
        "\n",
        "\n",
        "# A small sample of 20 to get the code up and running:\n",
        "# https://nbia.cancerimagingarchive.net/nbia-search/?saved-cart=nbia-30001670303233978\n",
        "\n",
        "\n",
        "# Or a sample of 40:\n",
        "# https://nbia.cancerimagingarchive.net/nbia-search/?saved-cart=nbia-47941670310489610\n",
        "\n",
        "data = tcia.getSharedCart(name = \"nbia-47941670310489610\")\n",
        "nsclc_data = tcia.downloadSeries(data, csv_filename = \"my_shared_cart\")\n",
        "display(nsclc_data)"
      ],
      "metadata": {
        "id": "L3mPwgbc1hoE"
      },
      "execution_count": null,
      "outputs": []
    },
    {
      "cell_type": "code",
      "source": [
        "# If data already imported\n",
        "nsclc_data = pd.read_csv(\"/content/my_shared_cart.csv\", index_col = \"Unnamed: 0\")"
      ],
      "metadata": {
        "id": "LrJnzDLmuL9R"
      },
      "execution_count": 65,
      "outputs": []
    },
    {
      "cell_type": "markdown",
      "source": [
        "# Convert the folder names of the imported files to their corresponding patient ID"
      ],
      "metadata": {
        "id": "crKitdJw-QX4"
      }
    },
    {
      "cell_type": "code",
      "source": [
        "paths = os.listdir(\"/content/tciaDownload\")\n",
        "\n",
        "for path in paths:\n",
        "  if \"1-001.dcm\" in os.listdir(os.path.join(\"/content/tciaDownload\", path)):\n",
        "    image_path = os.path.join(\"/content/tciaDownload\", path, \"1-001.dcm\")\n",
        "  else:\n",
        "    image_path = os.path.join(\"/content/tciaDownload\", path, \"1-01.dcm\")\n",
        "  image = pydicom.dcmread(image_path)\n",
        "  patient_id = str(image.PatientName)[-3:]\n",
        "  os.rename(os.path.join(\"/content/tciaDownload\", path), os.path.join(\"/content/tciaDownload\", patient_id))"
      ],
      "metadata": {
        "id": "l_KqOqwa4Jx8"
      },
      "execution_count": 67,
      "outputs": []
    },
    {
      "cell_type": "markdown",
      "source": [
        "# Converting DICOM series files into Nifti volumes"
      ],
      "metadata": {
        "id": "4lfhTL_y1zcS"
      }
    },
    {
      "cell_type": "code",
      "source": [
        "patient_folders = os.listdir(\"/content/tciaDownload\")\n",
        "\n",
        "os.mkdir(\"/content/nifti_images\")\n",
        "\n",
        "for patient in patient_folders:\n",
        "  reader = sitk.ImageSeriesReader()\n",
        "  dicom_names = reader.GetGDCMSeriesFileNames(os.path.join('/content/tciaDownload', patient))\n",
        "  reader.SetFileNames(dicom_names)\n",
        "  image = reader.Execute()\n",
        "\n",
        "  # # A call to PermuteAxes to change the axes of the data\n",
        "  # image = sitk.PermuteAxes(image, [1,0,2])\n",
        "\n",
        "  sitk.WriteImage(image, f'/content/nifti_images/patient_{patient}.nii')"
      ],
      "metadata": {
        "id": "QLzvN0vzBx3G"
      },
      "execution_count": 11,
      "outputs": []
    },
    {
      "cell_type": "code",
      "source": [
        "test_image = nib.load(\"/content/nifti_images/patient_015.nii\").get_fdata()\n",
        "\n",
        "plt.figure(figsize=(8, 8))\n",
        "plt.imshow(test_image[:, :, 49], cmap = 'gray')"
      ],
      "metadata": {
        "colab": {
          "base_uri": "https://localhost:8080/",
          "height": 503
        },
        "id": "SZMWPaDKIelv",
        "outputId": "09de103d-05c0-4085-c5d9-cbaea7716326"
      },
      "execution_count": 69,
      "outputs": [
        {
          "output_type": "execute_result",
          "data": {
            "text/plain": [
              "<matplotlib.image.AxesImage at 0x7fd2bdecf970>"
            ]
          },
          "metadata": {},
          "execution_count": 69
        },
        {
          "output_type": "display_data",
          "data": {
            "text/plain": [
              "<Figure size 576x576 with 1 Axes>"
            ],
            "image/png": "[encoded data removed]"
          },
          "metadata": {
            "needs_background": "light"
          }
        }
      ]
    },
    {
      "cell_type": "markdown",
      "source": [
        "# Preprocessing data"
      ],
      "metadata": {
        "id": "5-e-RvK7A6l2"
      }
    },
    {
      "cell_type": "markdown",
      "source": [
        "## Helper functions"
      ],
      "metadata": {
        "id": "aX8UlLxDN3Vk"
      }
    },
    {
      "cell_type": "code",
      "source": [
        "def read_nifti_file(filepath):\n",
        "  scan = nib.load(filepath)\n",
        "  scan = scan.get_fdata()\n",
        "  return scan\n",
        "\n",
        "def normalize(volume):\n",
        "  min = -1000\n",
        "  max = 400\n",
        "  volume[volume < min] = min\n",
        "  volume[volume > max] = max\n",
        "  voume = (volume - min) / (max - min)\n",
        "  volume = volume.astype(\"float32\")\n",
        "  return volume\n",
        "\n",
        "def resize_volume(img):\n",
        "    \"\"\"Resize across z-axis\"\"\"\n",
        "    # Set the desired depth\n",
        "    desired_depth = 64\n",
        "    desired_width = 128\n",
        "    desired_height = 128\n",
        "    # Get current depth\n",
        "    current_depth = img.shape[-1]\n",
        "    current_width = img.shape[0]\n",
        "    current_height = img.shape[1]\n",
        "    # Compute depth factor\n",
        "    depth = current_depth / desired_depth\n",
        "    width = current_width / desired_width\n",
        "    height = current_height / desired_height\n",
        "    depth_factor = 1 / depth\n",
        "    width_factor = 1 / width\n",
        "    height_factor = 1 / height\n",
        "    # Rotate\n",
        "    img = ndimage.rotate(img, 270, reshape=False)\n",
        "    img = np.fliplr(img)\n",
        "    # Resize across z-axis\n",
        "    img = ndimage.zoom(img, (width_factor, height_factor, depth_factor), order=1)\n",
        "    return img\n",
        "\n",
        "\n",
        "def process_scan(path):\n",
        "    \"\"\"Read and resize volume\"\"\"\n",
        "    # Read scan\n",
        "    volume = read_nifti_file(path)\n",
        "    # Normalize\n",
        "    volume = normalize(volume)\n",
        "    # Resize width, height and depth\n",
        "    volume = resize_volume(volume)\n",
        "    return volume"
      ],
      "metadata": {
        "id": "wxALsCf7OT93"
      },
      "execution_count": 70,
      "outputs": []
    },
    {
      "cell_type": "markdown",
      "source": [
        "## Divide image data into train-val-test sets"
      ],
      "metadata": {
        "id": "mxa5Ar3cX8OP"
      }
    },
    {
      "cell_type": "code",
      "source": [
        "patient_files = os.listdir(\"/content/nifti_images\")\n",
        "random.seed(42)\n",
        "random.shuffle(patient_files)\n",
        "\n",
        "train_patients = patient_files[:int(len(patient_files) * 0.7)]\n",
        "train_paths = [os.path.join(\"/content/nifti_images\", patient) for patient in train_patients]\n",
        "\n",
        "val_patients = patient_files[int(len(patient_files) * 0.7):int(len(patient_files) * 0.85)]\n",
        "val_paths = [os.path.join(\"/content/nifti_images\", patient) for patient in val_patients]\n",
        "\n",
        "test_patients = patient_files[int(len(patient_files) * 0.85):]\n",
        "test_paths = [os.path.join(\"/content/nifti_images\", patient) for patient in test_patients]"
      ],
      "metadata": {
        "id": "9nFf7wfCY57n"
      },
      "execution_count": 71,
      "outputs": []
    },
    {
      "cell_type": "markdown",
      "source": [
        "## Import target survival data"
      ],
      "metadata": {
        "id": "wMTGwlVoEN5k"
      }
    },
    {
      "cell_type": "code",
      "source": [
        "clinical_data = pd.read_csv(\"/content/NSCLC-Radiomics clinical data.csv\", index_col = 0)\n",
        "\n",
        "clinical_data.head()"
      ],
      "metadata": {
        "colab": {
          "base_uri": "https://localhost:8080/",
          "height": 238
        },
        "id": "vy-wo9vOEQHy",
        "outputId": "cef0be74-6433-4348-cda7-2d4659d939a4"
      },
      "execution_count": 72,
      "outputs": [
        {
          "output_type": "execute_result",
          "data": {
            "text/plain": [
              "               age  clinical.T.Stage  Clinical.N.Stage  Clinical.M.Stage  \\\n",
              "PatientID                                                                  \n",
              "LUNG1-001  78.7515               2.0                 3                 0   \n",
              "LUNG1-002  83.8001               2.0                 0                 0   \n",
              "LUNG1-003  68.1807               2.0                 3                 0   \n",
              "LUNG1-004  70.8802               2.0                 1                 0   \n",
              "LUNG1-005  80.4819               4.0                 2                 0   \n",
              "\n",
              "          Overall.Stage                Histology gender  Survival.time  \\\n",
              "PatientID                                                                \n",
              "LUNG1-001          IIIb               large cell   male           2165   \n",
              "LUNG1-002             I  squamous cell carcinoma   male            155   \n",
              "LUNG1-003          IIIb               large cell   male            256   \n",
              "LUNG1-004            II  squamous cell carcinoma   male            141   \n",
              "LUNG1-005          IIIb  squamous cell carcinoma   male            353   \n",
              "\n",
              "           deadstatus.event  \n",
              "PatientID                    \n",
              "LUNG1-001                 1  \n",
              "LUNG1-002                 1  \n",
              "LUNG1-003                 1  \n",
              "LUNG1-004                 1  \n",
              "LUNG1-005                 1  "
            ],
            "text/html": [
              "\n",
              "  <div id=\"df-fbc078d2-8527-4885-93db-dd9ab0081b80\">\n",
              "    <div class=\"colab-df-container\">\n",
              "      <div>\n",
              "<style scoped>\n",
              "    .dataframe tbody tr th:only-of-type {\n",
              "        vertical-align: middle;\n",
              "    }\n",
              "\n",
              "    .dataframe tbody tr th {\n",
              "        vertical-align: top;\n",
              "    }\n",
              "\n",
              "    .dataframe thead th {\n",
              "        text-align: right;\n",
              "    }\n",
              "</style>\n",
              "<table border=\"1\" class=\"dataframe\">\n",
              "  <thead>\n",
              "    <tr style=\"text-align: right;\">\n",
              "      <th></th>\n",
              "      <th>age</th>\n",
              "      <th>clinical.T.Stage</th>\n",
              "      <th>Clinical.N.Stage</th>\n",
              "      <th>Clinical.M.Stage</th>\n",
              "      <th>Overall.Stage</th>\n",
              "      <th>Histology</th>\n",
              "      <th>gender</th>\n",
              "      <th>Survival.time</th>\n",
              "      <th>deadstatus.event</th>\n",
              "    </tr>\n",
              "    <tr>\n",
              "      <th>PatientID</th>\n",
              "      <th></th>\n",
              "      <th></th>\n",
              "      <th></th>\n",
              "      <th></th>\n",
              "      <th></th>\n",
              "      <th></th>\n",
              "      <th></th>\n",
              "      <th></th>\n",
              "      <th></th>\n",
              "    </tr>\n",
              "  </thead>\n",
              "  <tbody>\n",
              "    <tr>\n",
              "      <th>LUNG1-001</th>\n",
              "      <td>78.7515</td>\n",
              "      <td>2.0</td>\n",
              "      <td>3</td>\n",
              "      <td>0</td>\n",
              "      <td>IIIb</td>\n",
              "      <td>large cell</td>\n",
              "      <td>male</td>\n",
              "      <td>2165</td>\n",
              "      <td>1</td>\n",
              "    </tr>\n",
              "    <tr>\n",
              "      <th>LUNG1-002</th>\n",
              "      <td>83.8001</td>\n",
              "      <td>2.0</td>\n",
              "      <td>0</td>\n",
              "      <td>0</td>\n",
              "      <td>I</td>\n",
              "      <td>squamous cell carcinoma</td>\n",
              "      <td>male</td>\n",
              "      <td>155</td>\n",
              "      <td>1</td>\n",
              "    </tr>\n",
              "    <tr>\n",
              "      <th>LUNG1-003</th>\n",
              "      <td>68.1807</td>\n",
              "      <td>2.0</td>\n",
              "      <td>3</td>\n",
              "      <td>0</td>\n",
              "      <td>IIIb</td>\n",
              "      <td>large cell</td>\n",
              "      <td>male</td>\n",
              "      <td>256</td>\n",
              "      <td>1</td>\n",
              "    </tr>\n",
              "    <tr>\n",
              "      <th>LUNG1-004</th>\n",
              "      <td>70.8802</td>\n",
              "      <td>2.0</td>\n",
              "      <td>1</td>\n",
              "      <td>0</td>\n",
              "      <td>II</td>\n",
              "      <td>squamous cell carcinoma</td>\n",
              "      <td>male</td>\n",
              "      <td>141</td>\n",
              "      <td>1</td>\n",
              "    </tr>\n",
              "    <tr>\n",
              "      <th>LUNG1-005</th>\n",
              "      <td>80.4819</td>\n",
              "      <td>4.0</td>\n",
              "      <td>2</td>\n",
              "      <td>0</td>\n",
              "      <td>IIIb</td>\n",
              "      <td>squamous cell carcinoma</td>\n",
              "      <td>male</td>\n",
              "      <td>353</td>\n",
              "      <td>1</td>\n",
              "    </tr>\n",
              "  </tbody>\n",
              "</table>\n",
              "</div>\n",
              "      <button class=\"colab-df-convert\" onclick=\"convertToInteractive('df-fbc078d2-8527-4885-93db-dd9ab0081b80')\"\n",
              "              title=\"Convert this dataframe to an interactive table.\"\n",
              "              style=\"display:none;\">\n",
              "        \n",
              "  <svg xmlns=\"http://www.w3.org/2000/svg\" height=\"24px\"viewBox=\"0 0 24 24\"\n",
              "       width=\"24px\">\n",
              "    <path d=\"M0 0h24v24H0V0z\" fill=\"none\"/>\n",
              "    <path d=\"M18.56 5.44l.94 2.06.94-2.06 2.06-.94-2.06-.94-.94-2.06-.94 2.06-2.06.94zm-11 1L8.5 8.5l.94-2.06 2.06-.94-2.06-.94L8.5 2.5l-.94 2.06-2.06.94zm10 10l.94 2.06.94-2.06 2.06-.94-2.06-.94-.94-2.06-.94 2.06-2.06.94z\"/><path d=\"M17.41 7.96l-1.37-1.37c-.4-.4-.92-.59-1.43-.59-.52 0-1.04.2-1.43.59L10.3 9.45l-7.72 7.72c-.78.78-.78 2.05 0 2.83L4 21.41c.39.39.9.59 1.41.59.51 0 1.02-.2 1.41-.59l7.78-7.78 2.81-2.81c.8-.78.8-2.07 0-2.86zM5.41 20L4 18.59l7.72-7.72 1.47 1.35L5.41 20z\"/>\n",
              "  </svg>\n",
              "      </button>\n",
              "      \n",
              "  <style>\n",
              "    .colab-df-container {\n",
              "      display:flex;\n",
              "      flex-wrap:wrap;\n",
              "      gap: 12px;\n",
              "    }\n",
              "\n",
              "    .colab-df-convert {\n",
              "      background-color: #E8F0FE;\n",
              "      border: none;\n",
              "      border-radius: 50%;\n",
              "      cursor: pointer;\n",
              "      display: none;\n",
              "      fill: #1967D2;\n",
              "      height: 32px;\n",
              "      padding: 0 0 0 0;\n",
              "      width: 32px;\n",
              "    }\n",
              "\n",
              "    .colab-df-convert:hover {\n",
              "      background-color: #E2EBFA;\n",
              "      box-shadow: 0px 1px 2px rgba(60, 64, 67, 0.3), 0px 1px 3px 1px rgba(60, 64, 67, 0.15);\n",
              "      fill: #174EA6;\n",
              "    }\n",
              "\n",
              "    [theme=dark] .colab-df-convert {\n",
              "      background-color: #3B4455;\n",
              "      fill: #D2E3FC;\n",
              "    }\n",
              "\n",
              "    [theme=dark] .colab-df-convert:hover {\n",
              "      background-color: #434B5C;\n",
              "      box-shadow: 0px 1px 3px 1px rgba(0, 0, 0, 0.15);\n",
              "      filter: drop-shadow(0px 1px 2px rgba(0, 0, 0, 0.3));\n",
              "      fill: #FFFFFF;\n",
              "    }\n",
              "  </style>\n",
              "\n",
              "      <script>\n",
              "        const buttonEl =\n",
              "          document.querySelector('#df-fbc078d2-8527-4885-93db-dd9ab0081b80 button.colab-df-convert');\n",
              "        buttonEl.style.display =\n",
              "          google.colab.kernel.accessAllowed ? 'block' : 'none';\n",
              "\n",
              "        async function convertToInteractive(key) {\n",
              "          const element = document.querySelector('#df-fbc078d2-8527-4885-93db-dd9ab0081b80');\n",
              "          const dataTable =\n",
              "            await google.colab.kernel.invokeFunction('convertToInteractive',\n",
              "                                                     [key], {});\n",
              "          if (!dataTable) return;\n",
              "\n",
              "          const docLinkHtml = 'Like what you see? Visit the ' +\n",
              "            '<a target=\"_blank\" href=https://colab.research.google.com/notebooks/data_table.ipynb>data table notebook</a>'\n",
              "            + ' to learn more about interactive tables.';\n",
              "          element.innerHTML = '';\n",
              "          dataTable['output_type'] = 'display_data';\n",
              "          await google.colab.output.renderOutput(dataTable, element);\n",
              "          const docLink = document.createElement('div');\n",
              "          docLink.innerHTML = docLinkHtml;\n",
              "          element.appendChild(docLink);\n",
              "        }\n",
              "      </script>\n",
              "    </div>\n",
              "  </div>\n",
              "  "
            ]
          },
          "metadata": {},
          "execution_count": 72
        }
      ]
    },
    {
      "cell_type": "markdown",
      "source": [
        "## Constructing survival curves"
      ],
      "metadata": {
        "id": "_g_kMvazheQ5"
      }
    },
    {
      "cell_type": "code",
      "source": [
        "clinical_data[\"Survival.time\"].hist();\n",
        "plt.xlabel(\"Observation time before death or censorship (days\");\n",
        "plt.ylabel(\"Frequencey (number of patients\")"
      ],
      "metadata": {
        "colab": {
          "base_uri": "https://localhost:8080/",
          "height": 296
        },
        "id": "TLRYC4jvi4st",
        "outputId": "9c3e1361-409e-4afd-da3e-e4b2cea0479e"
      },
      "execution_count": 48,
      "outputs": [
        {
          "output_type": "execute_result",
          "data": {
            "text/plain": [
              "Text(0, 0.5, 'Frequencey (number of patients')"
            ]
          },
          "metadata": {},
          "execution_count": 48
        },
        {
          "output_type": "display_data",
          "data": {
            "text/plain": [
              "<Figure size 432x288 with 1 Axes>"
            ],
            "image/png": "[encoded data removed]"
          },
          "metadata": {
            "needs_background": "light"
          }
        }
      ]
    },
    {
      "cell_type": "code",
      "source": [
        "def frac_censored(df):\n",
        "    \"\"\"\n",
        "    Return percent of observations which were censored.\n",
        "    \n",
        "    Args:\n",
        "        df (dataframe): dataframe which contains column 'Event' which is \n",
        "                        1 if an event occurred (death)\n",
        "                        0 if the event did not occur (censored)\n",
        "    Returns:\n",
        "        frac_censored (float): fraction of cases which were censored. \n",
        "    \"\"\"\n",
        "    result = 0.0\n",
        "    \n",
        "    censored_count = df[\"deadstatus.event\"] == 0\n",
        "    result = sum(censored_count)/len(censored_count)\n",
        "    \n",
        "    return result\n",
        "\n",
        "frac_censored(clinical_data)"
      ],
      "metadata": {
        "colab": {
          "base_uri": "https://localhost:8080/"
        },
        "id": "Lk1tSyQmjMhu",
        "outputId": "27c4be8f-0a6c-4421-9e55-0e541cbfb593"
      },
      "execution_count": 49,
      "outputs": [
        {
          "output_type": "execute_result",
          "data": {
            "text/plain": [
              "0.11611374407582939"
            ]
          },
          "metadata": {},
          "execution_count": 49
        }
      ]
    },
    {
      "cell_type": "code",
      "source": [
        "clinical_data_censored = clinical_data[clinical_data[\"deadstatus.event\"] == 0]\n",
        "clinical_data_uncensored = clinical_data[clinical_data[\"deadstatus.event\"] == 1]\n",
        "\n",
        "clinical_data_censored[\"Survival.time\"].hist()\n",
        "plt.title(\"Censored\")\n",
        "plt.xlabel(\"Time (days)\")\n",
        "plt.ylabel(\"Frequency\")\n",
        "plt.show()\n",
        "\n",
        "clinical_data[\"Survival.time\"].hist()\n",
        "plt.title(\"Uncensored\")\n",
        "plt.xlabel(\"Time (days)\")\n",
        "plt.ylabel(\"Frequency\")\n",
        "plt.show()"
      ],
      "metadata": {
        "colab": {
          "base_uri": "https://localhost:8080/",
          "height": 573
        },
        "id": "lSMfkL5IjfLH",
        "outputId": "21b09bc3-efa5-4066-89a6-3946516f1f87"
      },
      "execution_count": 51,
      "outputs": [
        {
          "output_type": "display_data",
          "data": {
            "text/plain": [
              "<Figure size 432x288 with 1 Axes>"
            ],
            "image/png": "[encoded data removed]"
          },
          "metadata": {
            "needs_background": "light"
          }
        },
        {
          "output_type": "display_data",
          "data": {
            "text/plain": [
              "<Figure size 432x288 with 1 Axes>"
            ],
            "image/png": "[encoded data removed]"
          },
          "metadata": {
            "needs_background": "light"
          }
        }
      ]
    },
    {
      "cell_type": "code",
      "source": [
        "SI = clinical_data[clinical_data[\"Overall.Stage\"] == 'I']\n",
        "kmI = KM()\n",
        "kmI.fit(SI.loc[:, \"Survival.time\"], event_observed = SI.loc[:, \"deadstatus.event\"], label = \"Stage I\")\n",
        "\n",
        "SII = clinical_data[clinical_data[\"Overall.Stage\"] == 'II']\n",
        "kmII = KM()\n",
        "kmII.fit(SII.loc[:, \"Survival.time\"], event_observed = SII.loc[:, \"deadstatus.event\"], label = \"Stage II\")\n",
        "\n",
        "SIIIa = clinical_data[clinical_data[\"Overall.Stage\"] == 'IIIa']\n",
        "kmIIIa = KM()\n",
        "kmIIIa.fit(SIIIa.loc[:, \"Survival.time\"], event_observed = SIIIa.loc[:, \"deadstatus.event\"], label = \"Stage IIIa\")\n",
        "\n",
        "SIIIb = clinical_data[clinical_data[\"Overall.Stage\"] == 'IIIb']\n",
        "kmIIIb = KM()\n",
        "kmIIIb.fit(SIIIb.loc[:, \"Survival.time\"], event_observed = SIIIb.loc[:, \"deadstatus.event\"], label = \"Stage IIIb\")\n",
        "\n",
        "ax = kmI.plot(ci_show=False)\n",
        "kmII.plot(ax = ax, ci_show=False)\n",
        "kmIIIa.plot(ax = ax, ci_show=False)\n",
        "kmIIIb.plot(ax = ax, ci_show=False)\n",
        "plt.xlabel('time')\n",
        "plt.ylabel('Survival probability estimate')\n",
        "plt.savefig('four_km_curves', dpi=300)"
      ],
      "metadata": {
        "colab": {
          "base_uri": "https://localhost:8080/",
          "height": 279
        },
        "id": "OcItsds-kEN3",
        "outputId": "a0061dca-f552-4240-cdf8-4306e3352455"
      },
      "execution_count": 53,
      "outputs": [
        {
          "output_type": "display_data",
          "data": {
            "text/plain": [
              "<Figure size 432x288 with 1 Axes>"
            ],
            "image/png": "[encoded data removed]"
          },
          "metadata": {
            "needs_background": "light"
          }
        }
      ]
    },
    {
      "cell_type": "code",
      "source": [
        "non_missing_clinical_data = clinical_data.dropna(subset = [\"age\", \"Overall.Stage\", \"gender\"])\n",
        "\n",
        "aaf = AalenAdditiveFitter()\n",
        "\n",
        "aaf.fit(non_missing_clinical_data, duration_col = \"Survival.time\",\n",
        "        event_col = \"deadstatus.event\", formula = \"Overall.Stage + age + gender\")\n",
        "\n",
        "aaf.cumulative_hazards_.head()"
      ],
      "metadata": {
        "colab": {
          "base_uri": "https://localhost:8080/",
          "height": 206
        },
        "id": "jyYWmiT7x0fl",
        "outputId": "eb3e85d8-90af-4a37-a0cb-de71f59c2be3"
      },
      "execution_count": 64,
      "outputs": [
        {
          "output_type": "execute_result",
          "data": {
            "text/plain": [
              "covariate  Intercept  Overall.Stage[T.II]  Overall.Stage[T.IIIa]  \\\n",
              "10.0       -0.022642            -0.000221               0.011093   \n",
              "18.0       -0.058582             0.000625               0.023564   \n",
              "25.0       -0.067342             0.000348               0.024298   \n",
              "33.0       -0.108501             0.001241               0.037489   \n",
              "39.0       -0.130668             0.001041               0.039474   \n",
              "\n",
              "covariate  Overall.Stage[T.IIIb]       age  gender[T.male]  \n",
              "10.0                    0.002155  0.000287        0.002470  \n",
              "18.0                    0.006202  0.000885       -0.008414  \n",
              "25.0                    0.012853  0.000974       -0.005093  \n",
              "33.0                    0.017445  0.001650       -0.016623  \n",
              "39.0                    0.025529  0.001933       -0.014409  "
            ],
            "text/html": [
              "\n",
              "  <div id=\"df-a006b45f-4c2b-4e09-be8e-f296243bb5ba\">\n",
              "    <div class=\"colab-df-container\">\n",
              "      <div>\n",
              "<style scoped>\n",
              "    .dataframe tbody tr th:only-of-type {\n",
              "        vertical-align: middle;\n",
              "    }\n",
              "\n",
              "    .dataframe tbody tr th {\n",
              "        vertical-align: top;\n",
              "    }\n",
              "\n",
              "    .dataframe thead th {\n",
              "        text-align: right;\n",
              "    }\n",
              "</style>\n",
              "<table border=\"1\" class=\"dataframe\">\n",
              "  <thead>\n",
              "    <tr style=\"text-align: right;\">\n",
              "      <th>covariate</th>\n",
              "      <th>Intercept</th>\n",
              "      <th>Overall.Stage[T.II]</th>\n",
              "      <th>Overall.Stage[T.IIIa]</th>\n",
              "      <th>Overall.Stage[T.IIIb]</th>\n",
              "      <th>age</th>\n",
              "      <th>gender[T.male]</th>\n",
              "    </tr>\n",
              "  </thead>\n",
              "  <tbody>\n",
              "    <tr>\n",
              "      <th>10.0</th>\n",
              "      <td>-0.022642</td>\n",
              "      <td>-0.000221</td>\n",
              "      <td>0.011093</td>\n",
              "      <td>0.002155</td>\n",
              "      <td>0.000287</td>\n",
              "      <td>0.002470</td>\n",
              "    </tr>\n",
              "    <tr>\n",
              "      <th>18.0</th>\n",
              "      <td>-0.058582</td>\n",
              "      <td>0.000625</td>\n",
              "      <td>0.023564</td>\n",
              "      <td>0.006202</td>\n",
              "      <td>0.000885</td>\n",
              "      <td>-0.008414</td>\n",
              "    </tr>\n",
              "    <tr>\n",
              "      <th>25.0</th>\n",
              "      <td>-0.067342</td>\n",
              "      <td>0.000348</td>\n",
              "      <td>0.024298</td>\n",
              "      <td>0.012853</td>\n",
              "      <td>0.000974</td>\n",
              "      <td>-0.005093</td>\n",
              "    </tr>\n",
              "    <tr>\n",
              "      <th>33.0</th>\n",
              "      <td>-0.108501</td>\n",
              "      <td>0.001241</td>\n",
              "      <td>0.037489</td>\n",
              "      <td>0.017445</td>\n",
              "      <td>0.001650</td>\n",
              "      <td>-0.016623</td>\n",
              "    </tr>\n",
              "    <tr>\n",
              "      <th>39.0</th>\n",
              "      <td>-0.130668</td>\n",
              "      <td>0.001041</td>\n",
              "      <td>0.039474</td>\n",
              "      <td>0.025529</td>\n",
              "      <td>0.001933</td>\n",
              "      <td>-0.014409</td>\n",
              "    </tr>\n",
              "  </tbody>\n",
              "</table>\n",
              "</div>\n",
              "      <button class=\"colab-df-convert\" onclick=\"convertToInteractive('df-a006b45f-4c2b-4e09-be8e-f296243bb5ba')\"\n",
              "              title=\"Convert this dataframe to an interactive table.\"\n",
              "              style=\"display:none;\">\n",
              "        \n",
              "  <svg xmlns=\"http://www.w3.org/2000/svg\" height=\"24px\"viewBox=\"0 0 24 24\"\n",
              "       width=\"24px\">\n",
              "    <path d=\"M0 0h24v24H0V0z\" fill=\"none\"/>\n",
              "    <path d=\"M18.56 5.44l.94 2.06.94-2.06 2.06-.94-2.06-.94-.94-2.06-.94 2.06-2.06.94zm-11 1L8.5 8.5l.94-2.06 2.06-.94-2.06-.94L8.5 2.5l-.94 2.06-2.06.94zm10 10l.94 2.06.94-2.06 2.06-.94-2.06-.94-.94-2.06-.94 2.06-2.06.94z\"/><path d=\"M17.41 7.96l-1.37-1.37c-.4-.4-.92-.59-1.43-.59-.52 0-1.04.2-1.43.59L10.3 9.45l-7.72 7.72c-.78.78-.78 2.05 0 2.83L4 21.41c.39.39.9.59 1.41.59.51 0 1.02-.2 1.41-.59l7.78-7.78 2.81-2.81c.8-.78.8-2.07 0-2.86zM5.41 20L4 18.59l7.72-7.72 1.47 1.35L5.41 20z\"/>\n",
              "  </svg>\n",
              "      </button>\n",
              "      \n",
              "  <style>\n",
              "    .colab-df-container {\n",
              "      display:flex;\n",
              "      flex-wrap:wrap;\n",
              "      gap: 12px;\n",
              "    }\n",
              "\n",
              "    .colab-df-convert {\n",
              "      background-color: #E8F0FE;\n",
              "      border: none;\n",
              "      border-radius: 50%;\n",
              "      cursor: pointer;\n",
              "      display: none;\n",
              "      fill: #1967D2;\n",
              "      height: 32px;\n",
              "      padding: 0 0 0 0;\n",
              "      width: 32px;\n",
              "    }\n",
              "\n",
              "    .colab-df-convert:hover {\n",
              "      background-color: #E2EBFA;\n",
              "      box-shadow: 0px 1px 2px rgba(60, 64, 67, 0.3), 0px 1px 3px 1px rgba(60, 64, 67, 0.15);\n",
              "      fill: #174EA6;\n",
              "    }\n",
              "\n",
              "    [theme=dark] .colab-df-convert {\n",
              "      background-color: #3B4455;\n",
              "      fill: #D2E3FC;\n",
              "    }\n",
              "\n",
              "    [theme=dark] .colab-df-convert:hover {\n",
              "      background-color: #434B5C;\n",
              "      box-shadow: 0px 1px 3px 1px rgba(0, 0, 0, 0.15);\n",
              "      filter: drop-shadow(0px 1px 2px rgba(0, 0, 0, 0.3));\n",
              "      fill: #FFFFFF;\n",
              "    }\n",
              "  </style>\n",
              "\n",
              "      <script>\n",
              "        const buttonEl =\n",
              "          document.querySelector('#df-a006b45f-4c2b-4e09-be8e-f296243bb5ba button.colab-df-convert');\n",
              "        buttonEl.style.display =\n",
              "          google.colab.kernel.accessAllowed ? 'block' : 'none';\n",
              "\n",
              "        async function convertToInteractive(key) {\n",
              "          const element = document.querySelector('#df-a006b45f-4c2b-4e09-be8e-f296243bb5ba');\n",
              "          const dataTable =\n",
              "            await google.colab.kernel.invokeFunction('convertToInteractive',\n",
              "                                                     [key], {});\n",
              "          if (!dataTable) return;\n",
              "\n",
              "          const docLinkHtml = 'Like what you see? Visit the ' +\n",
              "            '<a target=\"_blank\" href=https://colab.research.google.com/notebooks/data_table.ipynb>data table notebook</a>'\n",
              "            + ' to learn more about interactive tables.';\n",
              "          element.innerHTML = '';\n",
              "          dataTable['output_type'] = 'display_data';\n",
              "          await google.colab.output.renderOutput(dataTable, element);\n",
              "          const docLink = document.createElement('div');\n",
              "          docLink.innerHTML = docLinkHtml;\n",
              "          element.appendChild(docLink);\n",
              "        }\n",
              "      </script>\n",
              "    </div>\n",
              "  </div>\n",
              "  "
            ]
          },
          "metadata": {},
          "execution_count": 64
        }
      ]
    },
    {
      "cell_type": "code",
      "source": [
        "aaf.plot(columns = ['Overall.Stage[T.II]', \"Overall.Stage[T.IIIa]\", \"Overall.Stage[T.IIIb]\"])"
      ],
      "metadata": {
        "colab": {
          "base_uri": "https://localhost:8080/",
          "height": 282
        },
        "id": "2jiNPm5jyRtC",
        "outputId": "f12efde7-88c2-4ee4-e2dd-2c85027c2859"
      },
      "execution_count": 67,
      "outputs": [
        {
          "output_type": "execute_result",
          "data": {
            "text/plain": [
              "<matplotlib.axes._subplots.AxesSubplot at 0x7fdd54c07bb0>"
            ]
          },
          "metadata": {},
          "execution_count": 67
        },
        {
          "output_type": "display_data",
          "data": {
            "text/plain": [
              "<Figure size 432x288 with 1 Axes>"
            ],
            "image/png": "[encoded data removed]"
          },
          "metadata": {
            "needs_background": "light"
          }
        }
      ]
    },
    {
      "cell_type": "code",
      "source": [
        "non_missing_clinical_data = clinical_data.dropna(subset = [\"age\", \"Overall.Stage\", \"gender\"])\n",
        "\n",
        "cph = CoxPHFitter()\n",
        "cph.fit(non_missing_clinical_data, duration_col = \"Survival.time\", event_col = \"deadstatus.event\", formula = \"Overall.Stage + age + gender\")\n",
        "\n",
        "cph.print_summary()"
      ],
      "metadata": {
        "colab": {
          "base_uri": "https://localhost:8080/",
          "height": 600
        },
        "id": "C3SstZhotC1u",
        "outputId": "63c7ffc9-15c1-45f3-8076-f5089011998f"
      },
      "execution_count": 63,
      "outputs": [
        {
          "output_type": "display_data",
          "data": {
            "text/plain": [
              "<lifelines.CoxPHFitter: fitted with 399 total observations, 47 right-censored observations>\n",
              "             duration col = 'Survival.time'\n",
              "                event col = 'deadstatus.event'\n",
              "      baseline estimation = breslow\n",
              "   number of observations = 399\n",
              "number of events observed = 352\n",
              "   partial log-likelihood = -1831.66\n",
              "         time fit was run = 2022-12-06 09:17:39 UTC\n",
              "\n",
              "---\n",
              "                        coef  exp(coef)   se(coef)   coef lower 95%   coef upper 95%  exp(coef) lower 95%  exp(coef) upper 95%\n",
              "covariate                                                                                                                     \n",
              "Overall.Stage[T.II]    -0.08       0.93       0.21            -0.48             0.33                 0.62                 1.40\n",
              "Overall.Stage[T.IIIa]   0.12       1.13       0.16            -0.18             0.42                 0.83                 1.53\n",
              "Overall.Stage[T.IIIb]  -0.06       0.94       0.15            -0.35             0.23                 0.71                 1.25\n",
              "age                     0.02       1.02       0.01             0.00             0.03                 1.00                 1.03\n",
              "gender[T.male]          0.19       1.20       0.12            -0.06             0.43                 0.95                 1.53\n",
              "\n",
              "                        cmp to     z    p   -log2(p)\n",
              "covariate                                           \n",
              "Overall.Stage[T.II]       0.00 -0.36 0.72       0.48\n",
              "Overall.Stage[T.IIIa]     0.00  0.77 0.44       1.19\n",
              "Overall.Stage[T.IIIb]     0.00 -0.41 0.68       0.56\n",
              "age                       0.00  2.52 0.01       6.43\n",
              "gender[T.male]            0.00  1.51 0.13       2.94\n",
              "---\n",
              "Concordance = 0.55\n",
              "Partial AIC = 3673.33\n",
              "log-likelihood ratio test = 13.80 on 5 df\n",
              "-log2(p) of ll-ratio test = 5.89"
            ],
            "text/html": [
              "<div>\n",
              "<style scoped>\n",
              "    .dataframe tbody tr th:only-of-type {\n",
              "        vertical-align: middle;\n",
              "    }\n",
              "\n",
              "    .dataframe tbody tr th {\n",
              "        vertical-align: top;\n",
              "    }\n",
              "\n",
              "    .dataframe thead th {\n",
              "        text-align: right;\n",
              "    }\n",
              "</style>\n",
              "<table border=\"1\" class=\"dataframe\">\n",
              "  <tbody>\n",
              "    <tr>\n",
              "      <th>model</th>\n",
              "      <td>lifelines.CoxPHFitter</td>\n",
              "    </tr>\n",
              "    <tr>\n",
              "      <th>duration col</th>\n",
              "      <td>'Survival.time'</td>\n",
              "    </tr>\n",
              "    <tr>\n",
              "      <th>event col</th>\n",
              "      <td>'deadstatus.event'</td>\n",
              "    </tr>\n",
              "    <tr>\n",
              "      <th>baseline estimation</th>\n",
              "      <td>breslow</td>\n",
              "    </tr>\n",
              "    <tr>\n",
              "      <th>number of observations</th>\n",
              "      <td>399</td>\n",
              "    </tr>\n",
              "    <tr>\n",
              "      <th>number of events observed</th>\n",
              "      <td>352</td>\n",
              "    </tr>\n",
              "    <tr>\n",
              "      <th>partial log-likelihood</th>\n",
              "      <td>-1831.66</td>\n",
              "    </tr>\n",
              "    <tr>\n",
              "      <th>time fit was run</th>\n",
              "      <td>2022-12-06 09:17:39 UTC</td>\n",
              "    </tr>\n",
              "  </tbody>\n",
              "</table>\n",
              "</div><table border=\"1\" class=\"dataframe\">\n",
              "  <thead>\n",
              "    <tr style=\"text-align: right;\">\n",
              "      <th style=\"min-width: 12px;\"></th>\n",
              "      <th style=\"min-width: 12px;\">coef</th>\n",
              "      <th style=\"min-width: 12px;\">exp(coef)</th>\n",
              "      <th style=\"min-width: 12px;\">se(coef)</th>\n",
              "      <th style=\"min-width: 12px;\">coef lower 95%</th>\n",
              "      <th style=\"min-width: 12px;\">coef upper 95%</th>\n",
              "      <th style=\"min-width: 12px;\">exp(coef) lower 95%</th>\n",
              "      <th style=\"min-width: 12px;\">exp(coef) upper 95%</th>\n",
              "      <th style=\"min-width: 12px;\">cmp to</th>\n",
              "      <th style=\"min-width: 12px;\">z</th>\n",
              "      <th style=\"min-width: 12px;\">p</th>\n",
              "      <th style=\"min-width: 12px;\">-log2(p)</th>\n",
              "    </tr>\n",
              "  </thead>\n",
              "  <tbody>\n",
              "    <tr>\n",
              "      <th>Overall.Stage[T.II]</th>\n",
              "      <td>-0.08</td>\n",
              "      <td>0.93</td>\n",
              "      <td>0.21</td>\n",
              "      <td>-0.48</td>\n",
              "      <td>0.33</td>\n",
              "      <td>0.62</td>\n",
              "      <td>1.40</td>\n",
              "      <td>0.00</td>\n",
              "      <td>-0.36</td>\n",
              "      <td>0.72</td>\n",
              "      <td>0.48</td>\n",
              "    </tr>\n",
              "    <tr>\n",
              "      <th>Overall.Stage[T.IIIa]</th>\n",
              "      <td>0.12</td>\n",
              "      <td>1.13</td>\n",
              "      <td>0.16</td>\n",
              "      <td>-0.18</td>\n",
              "      <td>0.42</td>\n",
              "      <td>0.83</td>\n",
              "      <td>1.53</td>\n",
              "      <td>0.00</td>\n",
              "      <td>0.77</td>\n",
              "      <td>0.44</td>\n",
              "      <td>1.19</td>\n",
              "    </tr>\n",
              "    <tr>\n",
              "      <th>Overall.Stage[T.IIIb]</th>\n",
              "      <td>-0.06</td>\n",
              "      <td>0.94</td>\n",
              "      <td>0.15</td>\n",
              "      <td>-0.35</td>\n",
              "      <td>0.23</td>\n",
              "      <td>0.71</td>\n",
              "      <td>1.25</td>\n",
              "      <td>0.00</td>\n",
              "      <td>-0.41</td>\n",
              "      <td>0.68</td>\n",
              "      <td>0.56</td>\n",
              "    </tr>\n",
              "    <tr>\n",
              "      <th>age</th>\n",
              "      <td>0.02</td>\n",
              "      <td>1.02</td>\n",
              "      <td>0.01</td>\n",
              "      <td>0.00</td>\n",
              "      <td>0.03</td>\n",
              "      <td>1.00</td>\n",
              "      <td>1.03</td>\n",
              "      <td>0.00</td>\n",
              "      <td>2.52</td>\n",
              "      <td>0.01</td>\n",
              "      <td>6.43</td>\n",
              "    </tr>\n",
              "    <tr>\n",
              "      <th>gender[T.male]</th>\n",
              "      <td>0.19</td>\n",
              "      <td>1.20</td>\n",
              "      <td>0.12</td>\n",
              "      <td>-0.06</td>\n",
              "      <td>0.43</td>\n",
              "      <td>0.95</td>\n",
              "      <td>1.53</td>\n",
              "      <td>0.00</td>\n",
              "      <td>1.51</td>\n",
              "      <td>0.13</td>\n",
              "      <td>2.94</td>\n",
              "    </tr>\n",
              "  </tbody>\n",
              "</table><br><div>\n",
              "<style scoped>\n",
              "    .dataframe tbody tr th:only-of-type {\n",
              "        vertical-align: middle;\n",
              "    }\n",
              "\n",
              "    .dataframe tbody tr th {\n",
              "        vertical-align: top;\n",
              "    }\n",
              "\n",
              "    .dataframe thead th {\n",
              "        text-align: right;\n",
              "    }\n",
              "</style>\n",
              "<table border=\"1\" class=\"dataframe\">\n",
              "  <tbody>\n",
              "    <tr>\n",
              "      <th>Concordance</th>\n",
              "      <td>0.55</td>\n",
              "    </tr>\n",
              "    <tr>\n",
              "      <th>Partial AIC</th>\n",
              "      <td>3673.33</td>\n",
              "    </tr>\n",
              "    <tr>\n",
              "      <th>log-likelihood ratio test</th>\n",
              "      <td>13.80 on 5 df</td>\n",
              "    </tr>\n",
              "    <tr>\n",
              "      <th>-log2(p) of ll-ratio test</th>\n",
              "      <td>5.89</td>\n",
              "    </tr>\n",
              "  </tbody>\n",
              "</table>\n",
              "</div>"
            ],
            "text/latex": "\\begin{tabular}{lrrrrrrrrrrr}\n{} & {coef} & {exp(coef)} & {se(coef)} & {coef lower 95%} & {coef upper 95%} & {exp(coef) lower 95%} & {exp(coef) upper 95%} & {cmp to} & {z} & {p} & {-log2(p)} \\\\\n{covariate} & {} & {} & {} & {} & {} & {} & {} & {} & {} & {} & {} \\\\\nOverall.Stage[T.II] & -0.08 & 0.93 & 0.21 & -0.48 & 0.33 & 0.62 & 1.40 & 0.00 & -0.36 & 0.72 & 0.48 \\\\\nOverall.Stage[T.IIIa] & 0.12 & 1.13 & 0.16 & -0.18 & 0.42 & 0.83 & 1.53 & 0.00 & 0.77 & 0.44 & 1.19 \\\\\nOverall.Stage[T.IIIb] & -0.06 & 0.94 & 0.15 & -0.35 & 0.23 & 0.71 & 1.25 & 0.00 & -0.41 & 0.68 & 0.56 \\\\\nage & 0.02 & 1.02 & 0.01 & 0.00 & 0.03 & 1.00 & 1.03 & 0.00 & 2.52 & 0.01 & 6.43 \\\\\ngender[T.male] & 0.19 & 1.20 & 0.12 & -0.06 & 0.43 & 0.95 & 1.53 & 0.00 & 1.51 & 0.13 & 2.94 \\\\\n\\end{tabular}\n"
          },
          "metadata": {}
        }
      ]
    },
    {
      "cell_type": "markdown",
      "source": [
        "## Dividing target variable (survival time) into train-val-test sets"
      ],
      "metadata": {
        "id": "sDUthAwMhefg"
      }
    },
    {
      "cell_type": "code",
      "source": [
        "y_train = []\n",
        "y_val = []\n",
        "y_test = []\n",
        "\n",
        "for patient_id in train_patients:\n",
        "  clincal_data_id = \"LUNG1-\" + patient_id[-7:-4]\n",
        "  y_train.append(clinical_data.loc[clincal_data_id, \"Survival.time\"])\n",
        "y_train = np.array(y_train)\n",
        "\n",
        "for patient_id in val_patients:\n",
        "  clincal_data_id = \"LUNG1-\" + patient_id[-7:-4]\n",
        "  y_val.append(clinical_data.loc[clincal_data_id, \"Survival.time\"])\n",
        "y_val = np.array(y_val)\n",
        "\n",
        "for patient_id in test_patients:\n",
        "  clincal_data_id = \"LUNG1-\" + patient_id[-7:-4]\n",
        "  y_test.append(clinical_data.loc[clincal_data_id, \"Survival.time\"])\n",
        "y_test = np.array(y_test)"
      ],
      "metadata": {
        "id": "utRghrfbGUfg"
      },
      "execution_count": 86,
      "outputs": []
    },
    {
      "cell_type": "markdown",
      "source": [
        "## Dividing event status into train-val-test sets"
      ],
      "metadata": {
        "id": "cFvfAK67YkOc"
      }
    },
    {
      "cell_type": "code",
      "source": [
        "event_train = []\n",
        "event_val = []\n",
        "event_test = []\n",
        "\n",
        "for patient_id in train_patients:\n",
        "  clincal_data_id = \"LUNG1-\" + patient_id[-7:-4]\n",
        "  event_train.append(clinical_data.loc[clincal_data_id, \"deadstatus.event\"])\n",
        "event_train = np.array(event_train)\n",
        "\n",
        "for patient_id in val_patients:\n",
        "  clincal_data_id = \"LUNG1-\" + patient_id[-7:-4]\n",
        "  event_val.append(clinical_data.loc[clincal_data_id, \"deadstatus.event\"])\n",
        "event_val = np.array(event_val)\n",
        "\n",
        "for patient_id in test_patients:\n",
        "  clincal_data_id = \"LUNG1-\" + patient_id[-7:-4]\n",
        "  event_test.append(clinical_data.loc[clincal_data_id, \"deadstatus.event\"])\n",
        "event_test = np.array(event_test)"
      ],
      "metadata": {
        "id": "EylSveOzYTKF"
      },
      "execution_count": 87,
      "outputs": []
    },
    {
      "cell_type": "markdown",
      "source": [
        "## Apply normalization and resizing to images"
      ],
      "metadata": {
        "id": "xW2OiJyKCFZf"
      }
    },
    {
      "cell_type": "code",
      "source": [
        "X_train = np.array([process_scan(path) for path in train_paths]) # X_train.shape is [sample size, 128, 128, 64]\n",
        "X_val = np.array([process_scan(path) for path in val_paths])\n",
        "X_test = np.array([process_scan(path) for path in test_paths])"
      ],
      "metadata": {
        "id": "l8kHcjMX1ibD"
      },
      "execution_count": 102,
      "outputs": []
    },
    {
      "cell_type": "markdown",
      "source": [
        "## Visualize preprocessed image"
      ],
      "metadata": {
        "id": "qv3gMSExEHmO"
      }
    },
    {
      "cell_type": "code",
      "source": [
        "image = X_train[0]\n",
        "print(\"Dimension of the CT scan is:\", image.shape)\n",
        "plt.figure(figsize=(8, 8))\n",
        "plt.imshow(np.squeeze(image[:, :, 20]), cmap=\"gray\")"
      ],
      "metadata": {
        "colab": {
          "base_uri": "https://localhost:8080/",
          "height": 520
        },
        "id": "0038azpqfRxv",
        "outputId": "7e1c7adc-8cf1-44d5-fde9-d3a9d65f5444"
      },
      "execution_count": 78,
      "outputs": [
        {
          "output_type": "stream",
          "name": "stdout",
          "text": [
            "Dimension of the CT scan is: (128, 128, 64)\n"
          ]
        },
        {
          "output_type": "execute_result",
          "data": {
            "text/plain": [
              "<matplotlib.image.AxesImage at 0x7fd2bd61d790>"
            ]
          },
          "metadata": {},
          "execution_count": 78
        },
        {
          "output_type": "display_data",
          "data": {
            "text/plain": [
              "<Figure size 576x576 with 1 Axes>"
            ],
            "image/png": "[encoded data removed]"
          },
          "metadata": {
            "needs_background": "light"
          }
        }
      ]
    },
    {
      "cell_type": "markdown",
      "source": [
        "# Base Model"
      ],
      "metadata": {
        "id": "DA58FDGR10T2"
      }
    },
    {
      "cell_type": "markdown",
      "source": [
        "## Expand dims to enable 3d Conv net"
      ],
      "metadata": {
        "id": "MJqhyfy_CNd-"
      }
    },
    {
      "cell_type": "code",
      "source": [
        "def train_preprocessing(volume, label):\n",
        "    \"\"\"Process training data by adding a channel.\"\"\"\n",
        "    volume = tf.expand_dims(volume, axis=3)\n",
        "    return volume, label\n",
        "\n",
        "\n",
        "def validation_preprocessing(volume, label):\n",
        "    \"\"\"Process validation data by only adding a channel.\"\"\"\n",
        "    volume = tf.expand_dims(volume, axis=3)\n",
        "    return volume, label"
      ],
      "metadata": {
        "id": "jTf6RwdE0ZP2"
      },
      "execution_count": 79,
      "outputs": []
    },
    {
      "cell_type": "markdown",
      "source": [
        "## Defining data loaders"
      ],
      "metadata": {
        "id": "P7WVu7nuIp5Q"
      }
    },
    {
      "cell_type": "code",
      "source": [
        "# Define data loaders.\n",
        "train_loader = tf.data.Dataset.from_tensor_slices((X_train, y_train))\n",
        "validation_loader = tf.data.Dataset.from_tensor_slices((X_val, y_val))\n",
        "\n",
        "batch_size = 2\n",
        "\n",
        "# Augment the on the fly during training.\n",
        "train_dataset = (\n",
        "    train_loader\n",
        "    .map(train_preprocessing)\n",
        "    .batch(batch_size)\n",
        "    .prefetch(2)\n",
        ")\n",
        "\n",
        "# Only rescale.\n",
        "validation_dataset = (\n",
        "    validation_loader\n",
        "    .map(validation_preprocessing)\n",
        "    .batch(batch_size)\n",
        "    .prefetch(2)\n",
        ")"
      ],
      "metadata": {
        "id": "Na5BCC3tIr4E"
      },
      "execution_count": 80,
      "outputs": []
    },
    {
      "cell_type": "markdown",
      "source": [
        "## Define conv net"
      ],
      "metadata": {
        "id": "eaN3ywDjKdrn"
      }
    },
    {
      "cell_type": "code",
      "source": [
        "def get_model(width=128, height=128, depth=64):\n",
        "    \"\"\"Build a 3D convolutional neural network model.\"\"\"\n",
        "\n",
        "    inputs = keras.Input((width, height, depth, 1))\n",
        "\n",
        "    x = layers.Conv3D(filters=64, kernel_size=3, activation=\"relu\")(inputs)\n",
        "    x = layers.MaxPool3D(pool_size=2)(x)\n",
        "    x = layers.BatchNormalization()(x)\n",
        "\n",
        "    x = layers.Conv3D(filters=64, kernel_size=3, activation=\"relu\")(x)\n",
        "    x = layers.MaxPool3D(pool_size=2)(x)\n",
        "    x = layers.BatchNormalization()(x)\n",
        "\n",
        "    x = layers.Conv3D(filters=128, kernel_size=3, activation=\"relu\")(x)\n",
        "    x = layers.MaxPool3D(pool_size=2)(x)\n",
        "    x = layers.BatchNormalization()(x)\n",
        "\n",
        "    x = layers.Conv3D(filters=256, kernel_size=3, activation=\"relu\")(x)\n",
        "    x = layers.MaxPool3D(pool_size=2)(x)\n",
        "    x = layers.BatchNormalization()(x)\n",
        "\n",
        "    x = layers.GlobalAveragePooling3D()(x)\n",
        "    x = layers.Dense(units=512, activation=\"relu\")(x)\n",
        "    x = layers.Dropout(0.3)(x)\n",
        "\n",
        "    outputs = layers.Dense(units=1, activation=\"linear\")(x)\n",
        "\n",
        "    # Define the model.\n",
        "    model = keras.Model(inputs, outputs, name=\"3D_CNN_Base\")\n",
        "    return model\n",
        "\n",
        "\n",
        "# Build model.\n",
        "model = get_model(width=128, height=128, depth=64)\n",
        "model.summary()"
      ],
      "metadata": {
        "colab": {
          "base_uri": "https://localhost:8080/"
        },
        "id": "v8WMZvySKVh3",
        "outputId": "2dfcbd32-20d9-4eed-af1a-2a855db03857"
      },
      "execution_count": 81,
      "outputs": [
        {
          "output_type": "stream",
          "name": "stdout",
          "text": [
            "Model: \"3D_CNN_Base\"\n",
            "_________________________________________________________________\n",
            " Layer (type)                Output Shape              Param #   \n",
            "=================================================================\n",
            " input_3 (InputLayer)        [(None, 128, 128, 64, 1)  0         \n",
            "                             ]                                   \n",
            "                                                                 \n",
            " conv3d_8 (Conv3D)           (None, 126, 126, 62, 64)  1792      \n",
            "                                                                 \n",
            " max_pooling3d_8 (MaxPooling  (None, 63, 63, 31, 64)   0         \n",
            " 3D)                                                             \n",
            "                                                                 \n",
            " batch_normalization_8 (Batc  (None, 63, 63, 31, 64)   256       \n",
            " hNormalization)                                                 \n",
            "                                                                 \n",
            " conv3d_9 (Conv3D)           (None, 61, 61, 29, 64)    110656    \n",
            "                                                                 \n",
            " max_pooling3d_9 (MaxPooling  (None, 30, 30, 14, 64)   0         \n",
            " 3D)                                                             \n",
            "                                                                 \n",
            " batch_normalization_9 (Batc  (None, 30, 30, 14, 64)   256       \n",
            " hNormalization)                                                 \n",
            "                                                                 \n",
            " conv3d_10 (Conv3D)          (None, 28, 28, 12, 128)   221312    \n",
            "                                                                 \n",
            " max_pooling3d_10 (MaxPoolin  (None, 14, 14, 6, 128)   0         \n",
            " g3D)                                                            \n",
            "                                                                 \n",
            " batch_normalization_10 (Bat  (None, 14, 14, 6, 128)   512       \n",
            " chNormalization)                                                \n",
            "                                                                 \n",
            " conv3d_11 (Conv3D)          (None, 12, 12, 4, 256)    884992    \n",
            "                                                                 \n",
            " max_pooling3d_11 (MaxPoolin  (None, 6, 6, 2, 256)     0         \n",
            " g3D)                                                            \n",
            "                                                                 \n",
            " batch_normalization_11 (Bat  (None, 6, 6, 2, 256)     1024      \n",
            " chNormalization)                                                \n",
            "                                                                 \n",
            " global_average_pooling3d_2   (None, 256)              0         \n",
            " (GlobalAveragePooling3D)                                        \n",
            "                                                                 \n",
            " dense_4 (Dense)             (None, 512)               131584    \n",
            "                                                                 \n",
            " dropout_2 (Dropout)         (None, 512)               0         \n",
            "                                                                 \n",
            " dense_5 (Dense)             (None, 1)                 513       \n",
            "                                                                 \n",
            "=================================================================\n",
            "Total params: 1,352,897\n",
            "Trainable params: 1,351,873\n",
            "Non-trainable params: 1,024\n",
            "_________________________________________________________________\n"
          ]
        }
      ]
    },
    {
      "cell_type": "markdown",
      "source": [
        "## Train model"
      ],
      "metadata": {
        "id": "yFfkUEH8K82n"
      }
    },
    {
      "cell_type": "code",
      "source": [
        "# Compile model.\n",
        "initial_learning_rate = 0.0001\n",
        "lr_schedule = keras.optimizers.schedules.ExponentialDecay(\n",
        "    initial_learning_rate, decay_steps=100000, decay_rate=0.96, staircase=True\n",
        ")\n",
        "model.compile(\n",
        "    loss=\"mse\",\n",
        "    optimizer=keras.optimizers.Adam(learning_rate=lr_schedule),\n",
        "    metrics=[\"mse\"],\n",
        ")\n",
        "\n",
        "# Define callbacks.\n",
        "checkpoint_cb = keras.callbacks.ModelCheckpoint(\n",
        "    \"3d_image_classification.h5\", save_best_only=True\n",
        ")\n",
        "early_stopping_cb = keras.callbacks.EarlyStopping(monitor=\"val_mse\", patience=15)\n",
        "\n",
        "# Train the model, doing validation at the end of each epoch\n",
        "epochs = 10\n",
        "model.fit(\n",
        "    train_dataset,\n",
        "    validation_data=validation_dataset,\n",
        "    epochs=epochs,\n",
        "    shuffle=True,\n",
        "    verbose=2,\n",
        "    callbacks=[checkpoint_cb, early_stopping_cb],\n",
        ")"
      ],
      "metadata": {
        "colab": {
          "base_uri": "https://localhost:8080/"
        },
        "id": "Dfvx33KyK-7c",
        "outputId": "4ca24eb3-491e-4cd8-acba-338a0f9c709e"
      },
      "execution_count": 82,
      "outputs": [
        {
          "output_type": "stream",
          "name": "stdout",
          "text": [
            "Epoch 1/10\n",
            "14/14 - 8s - loss: 1210767.3750 - mse: 1210767.3750 - val_loss: 489968.0938 - val_mse: 489968.0938 - 8s/epoch - 604ms/step\n",
            "Epoch 2/10\n",
            "14/14 - 3s - loss: 1209427.1250 - mse: 1209427.1250 - val_loss: 478258.7812 - val_mse: 478258.7812 - 3s/epoch - 193ms/step\n",
            "Epoch 3/10\n",
            "14/14 - 3s - loss: 1207705.0000 - mse: 1207705.0000 - val_loss: 466578.4062 - val_mse: 466578.4062 - 3s/epoch - 194ms/step\n",
            "Epoch 4/10\n",
            "14/14 - 3s - loss: 1205679.8750 - mse: 1205679.8750 - val_loss: 459188.7500 - val_mse: 459188.7500 - 3s/epoch - 190ms/step\n",
            "Epoch 5/10\n",
            "14/14 - 3s - loss: 1203402.8750 - mse: 1203402.8750 - val_loss: 455706.2500 - val_mse: 455706.2500 - 3s/epoch - 190ms/step\n",
            "Epoch 6/10\n",
            "14/14 - 3s - loss: 1200238.3750 - mse: 1200238.3750 - val_loss: 451157.1250 - val_mse: 451157.1250 - 3s/epoch - 189ms/step\n",
            "Epoch 7/10\n",
            "14/14 - 3s - loss: 1198233.1250 - mse: 1198233.1250 - val_loss: 447571.3750 - val_mse: 447571.3750 - 3s/epoch - 190ms/step\n",
            "Epoch 8/10\n",
            "14/14 - 3s - loss: 1194195.2500 - mse: 1194195.2500 - val_loss: 443035.0938 - val_mse: 443035.0938 - 3s/epoch - 189ms/step\n",
            "Epoch 9/10\n",
            "14/14 - 3s - loss: 1197066.7500 - mse: 1197066.7500 - val_loss: 420859.7500 - val_mse: 420859.7500 - 3s/epoch - 192ms/step\n",
            "Epoch 10/10\n",
            "14/14 - 3s - loss: 1191439.8750 - mse: 1191439.8750 - val_loss: 420697.7500 - val_mse: 420697.7500 - 3s/epoch - 190ms/step\n"
          ]
        },
        {
          "output_type": "execute_result",
          "data": {
            "text/plain": [
              "<keras.callbacks.History at 0x7fd2bd5f3e20>"
            ]
          },
          "metadata": {},
          "execution_count": 82
        }
      ]
    },
    {
      "cell_type": "markdown",
      "source": [
        "## Visualize model performance"
      ],
      "metadata": {
        "id": "9FrVx9nULah8"
      }
    },
    {
      "cell_type": "code",
      "source": [
        "fig, ax = plt.subplots(1, 2, figsize=(20, 3))\n",
        "ax = ax.ravel()\n",
        "\n",
        "for i, metric in enumerate([\"mse\", \"loss\"]):\n",
        "    ax[i].plot(model.history.history[metric])\n",
        "    ax[i].plot(model.history.history[\"val_\" + metric])\n",
        "    ax[i].set_title(\"Model {}\".format(metric))\n",
        "    ax[i].set_xlabel(\"epochs\")\n",
        "    ax[i].set_ylabel(metric)\n",
        "    ax[i].legend([\"train\", \"val\"])"
      ],
      "metadata": {
        "colab": {
          "base_uri": "https://localhost:8080/",
          "height": 241
        },
        "id": "YoD2NpNFLdCt",
        "outputId": "6571b73c-6c99-4b1a-bb21-95b761068c2d"
      },
      "execution_count": 83,
      "outputs": [
        {
          "output_type": "display_data",
          "data": {
            "text/plain": [
              "<Figure size 1440x216 with 2 Axes>"
            ],
            "image/png": "[encoded data removed]"
          },
          "metadata": {
            "needs_background": "light"
          }
        }
      ]
    },
    {
      "cell_type": "markdown",
      "source": [
        "# Survival analysis using deep learning"
      ],
      "metadata": {
        "id": "3i6VHssrDrLG"
      }
    },
    {
      "cell_type": "markdown",
      "source": [
        "## Expand dims for 3d conv net"
      ],
      "metadata": {
        "id": "4h-bazPCEVek"
      }
    },
    {
      "cell_type": "code",
      "source": [
        "X_train = X_train[..., np.newaxis] # X_train.shape = [sample_size, 128, 128, 64, 1]\n",
        "X_val = X_val[..., np.newaxis]\n",
        "X_test = X_test[..., np.newaxis]"
      ],
      "metadata": {
        "id": "ASVhhhbVEZLk"
      },
      "execution_count": 104,
      "outputs": []
    },
    {
      "cell_type": "markdown",
      "source": [
        "## Define class for extracting batches from data and calculating Cox-proportional hazards from batches"
      ],
      "metadata": {
        "id": "u1xQyt7WGo8P"
      }
    },
    {
      "cell_type": "code",
      "source": [
        "def _make_riskset(time: np.ndarray) -> np.ndarray:\n",
        "    \"\"\"Compute mask that represents each sample's risk set.\n",
        "\n",
        "    Parameters\n",
        "    ----------\n",
        "    time : np.ndarray, shape=(n_samples,)\n",
        "        Observed event time sorted in descending order.\n",
        "\n",
        "    Returns\n",
        "    -------\n",
        "    risk_set : np.ndarray, shape=(n_samples, n_samples)\n",
        "        Boolean matrix where the `i`-th row denotes the\n",
        "        risk set of the `i`-th instance, i.e. the indices `j`\n",
        "        for which the observer time `y_j >= y_i`.\n",
        "    \"\"\"\n",
        "    assert time.ndim == 1, \"expected 1D array\"\n",
        "\n",
        "    # sort in descending order\n",
        "    o = np.argsort(-time, kind = \"mergesort\")\n",
        "    n_samples = len(time)\n",
        "    risk_set = np.zeros((n_samples, n_samples), dtype=np.bool_)\n",
        "    for i_org, i_sort in enumerate(o):\n",
        "        ti = time[i_sort]\n",
        "        k = i_org\n",
        "        while k < n_samples and ti == time[o[k]]:\n",
        "            k += 1\n",
        "        risk_set[i_sort, o[:k]] = True\n",
        "    return risk_set\n",
        "\n",
        "\n",
        "class InputFunction:\n",
        "    \"\"\"Callable input function that computes the risk set for each batch.\n",
        "    \n",
        "    Parameters\n",
        "    ----------\n",
        "    images : np.ndarray, shape=(n_samples, height, width)\n",
        "        Image data.\n",
        "    time : np.ndarray, shape=(n_samples,)\n",
        "        Observed time.\n",
        "    event : np.ndarray, shape=(n_samples,)\n",
        "        Event indicator.\n",
        "    batch_size : int, optional, default=64\n",
        "        Number of samples per batch.\n",
        "    drop_last : int, optional, default=False\n",
        "        Whether to drop the last incomplete batch.\n",
        "    shuffle : bool, optional, default=False\n",
        "        Whether to shuffle data.\n",
        "    seed : int, optional, default=89\n",
        "        Random number seed.\n",
        "    \"\"\"\n",
        "\n",
        "    def __init__(self,\n",
        "                 images: np.ndarray,\n",
        "                 time: np.ndarray,\n",
        "                 event: np.ndarray,\n",
        "                 batch_size: int = 8,\n",
        "                 drop_last: bool = False,\n",
        "                 shuffle: bool = False,\n",
        "                 seed: int = 42) -> None:\n",
        "        self.images = images\n",
        "        self.time = time\n",
        "        self.event = event\n",
        "        self.batch_size = batch_size\n",
        "        self.drop_last = drop_last\n",
        "        self.shuffle = shuffle\n",
        "        self.seed = seed\n",
        "\n",
        "    def size(self) -> int:\n",
        "        \"\"\"Total number of samples.\"\"\"\n",
        "        return self.images.shape[0]\n",
        "\n",
        "    def steps_per_epoch(self) -> int:\n",
        "        \"\"\"Number of batches for one epoch.\"\"\"\n",
        "        return int(np.floor(self.size() / self.batch_size))\n",
        "\n",
        "    def _get_data_batch(self, index: np.ndarray) -> Tuple[np.ndarray, Dict[str, np.ndarray]]:\n",
        "        \"\"\"Compute risk set for samples in batch.\"\"\"\n",
        "        time = self.time[index]\n",
        "        event = self.event[index]\n",
        "        images = self.images[index]\n",
        "\n",
        "        labels = {\n",
        "            \"label_event\": event.astype(np.int32),\n",
        "            \"label_time\": time.astype(np.float32),\n",
        "            \"label_riskset\": _make_riskset(time)\n",
        "        }\n",
        "        return images, labels\n",
        "\n",
        "    def _iter_data(self) -> Iterable[Tuple[np.ndarray, Dict[str, np.ndarray]]]:\n",
        "        \"\"\"Generator that yields one batch at a time.\"\"\"\n",
        "        index = np.arange(self.size())\n",
        "        rnd = np.random.RandomState(self.seed)\n",
        "\n",
        "        if self.shuffle:\n",
        "            rnd.shuffle(index)\n",
        "        for b in range(self.steps_per_epoch()):\n",
        "            start = b * self.batch_size\n",
        "            idx = index[start:(start + self.batch_size)]\n",
        "            yield self._get_data_batch(idx)\n",
        "\n",
        "        if not self.drop_last:\n",
        "            start = self.steps_per_epoch() * self.batch_size\n",
        "            idx = index[start:]\n",
        "            yield self._get_data_batch(idx)\n",
        "\n",
        "    def _get_shapes(self) -> Tuple[tf.TensorShape, Dict[str, tf.TensorShape]]:\n",
        "        \"\"\"Return shapes of data returned by `self._iter_data`.\"\"\"\n",
        "        batch_size = self.batch_size if self.drop_last else None\n",
        "        h, w, d, c = self.images.shape[1:] # Added c\n",
        "        images = tf.TensorShape([batch_size, h, w, d, c])\n",
        "\n",
        "        labels = {k: tf.TensorShape((batch_size,))\n",
        "                  for k in (\"label_event\", \"label_time\")}\n",
        "        labels[\"label_riskset\"] = tf.TensorShape((batch_size, batch_size))\n",
        "        return images, labels\n",
        "\n",
        "    def _get_dtypes(self) -> Tuple[tf.DType, Dict[str, tf.DType]]:\n",
        "        \"\"\"Return dtypes of data returned by `self._iter_data`.\"\"\"\n",
        "        labels = {\"label_event\": tf.int32,\n",
        "                  \"label_time\": tf.float32,\n",
        "                  \"label_riskset\": tf.bool}\n",
        "        return tf.float32, labels\n",
        "\n",
        "    def _make_dataset(self) -> tf.data.Dataset:\n",
        "        \"\"\"Create dataset from generator.\"\"\"\n",
        "        ds = tf.data.Dataset.from_generator(\n",
        "            self._iter_data,\n",
        "            self._get_dtypes(),\n",
        "            self._get_shapes()\n",
        "        )\n",
        "        return ds\n",
        "\n",
        "    def __call__(self) -> tf.data.Dataset:\n",
        "        return self._make_dataset()\n",
        "\n",
        "\n",
        "def safe_normalize(x: tf.Tensor) -> tf.Tensor:\n",
        "    \"\"\"Normalize risk scores to avoid exp underflowing.\n",
        "\n",
        "    Note that only risk scores relative to each other matter.\n",
        "    If minimum risk score is negative, we shift scores so minimum\n",
        "    is at zero.\n",
        "    \"\"\"\n",
        "    x_min = tf.reduce_min(x, axis=0)\n",
        "    c = tf.zeros_like(x_min)\n",
        "    norm = tf.where(x_min < 0, -x_min, c)\n",
        "    return x + norm\n",
        "\n",
        "\n",
        "def logsumexp_masked(risk_scores: tf.Tensor,\n",
        "                     mask: tf.Tensor,\n",
        "                     axis: int = 0,\n",
        "                     keepdims: Optional[bool] = None) -> tf.Tensor:\n",
        "    \"\"\"Compute logsumexp across `axis` for entries where `mask` is true.\"\"\"\n",
        "    risk_scores.shape.assert_same_rank(mask.shape)\n",
        "\n",
        "    with tf.name_scope(\"logsumexp_masked\"):\n",
        "        mask_f = tf.cast(mask, risk_scores.dtype)\n",
        "        risk_scores_masked = tf.math.multiply(risk_scores, mask_f)\n",
        "        # for numerical stability, substract the maximum value\n",
        "        # before taking the exponential\n",
        "        amax = tf.reduce_max(risk_scores_masked, axis=axis, keepdims=True)\n",
        "        risk_scores_shift = risk_scores_masked - amax\n",
        "\n",
        "        exp_masked = tf.math.multiply(tf.exp(risk_scores_shift), mask_f)\n",
        "        exp_sum = tf.reduce_sum(exp_masked, axis=axis, keepdims=True)\n",
        "        output = amax + tf.math.log(exp_sum)\n",
        "        if not keepdims:\n",
        "            output = tf.squeeze(output, axis=axis)\n",
        "    return output\n",
        "\n",
        "\n",
        "class CoxPHLoss(tf.keras.losses.Loss):\n",
        "    \"\"\"Negative partial log-likelihood of Cox's proportional hazards model.\"\"\"\n",
        "\n",
        "    def __init__(self, **kwargs):\n",
        "        super().__init__(**kwargs)            \n",
        "\n",
        "    def call(self,\n",
        "             y_true: Sequence[tf.Tensor],\n",
        "             y_pred: tf.Tensor) -> tf.Tensor:\n",
        "\n",
        "        \"\"\"\n",
        "        Compute loss.\n",
        "\n",
        "        Parameters\n",
        "        ----------\n",
        "        y_true : list|tuple of tf.Tensor\n",
        "            The first element holds a binary vector where 1\n",
        "            indicates an event 0 censoring.\n",
        "            The second element holds the riskset, a\n",
        "            boolean matrix where the `i`-th row denotes the\n",
        "            risk set of the `i`-th instance, i.e. the indices `j`\n",
        "            for which the observer time `y_j >= y_i`.\n",
        "            Both must be rank 2 tensors.\n",
        "        y_pred : tf.Tensor\n",
        "            The predicted outputs. Must be a rank 2 tensor.\n",
        "\n",
        "        Returns\n",
        "        -------\n",
        "        loss : tf.Tensor\n",
        "            Loss for each instance in the batch.\n",
        "        \"\"\"\n",
        "        event, riskset = y_true\n",
        "        predictions = y_pred\n",
        "\n",
        "        pred_shape = predictions.shape\n",
        "        if pred_shape.ndims != 2:\n",
        "            raise ValueError(\"Rank mismatch: Rank of predictions (received %s) should \"\n",
        "                             \"be 2.\" % pred_shape.ndims)\n",
        "\n",
        "        if pred_shape[1] is None:\n",
        "            raise ValueError(\"Last dimension of predictions must be known.\")\n",
        "\n",
        "        if pred_shape[1] != 1:\n",
        "            raise ValueError(\"Dimension mismatch: Last dimension of predictions \"\n",
        "                             \"(received %s) must be 1.\" % pred_shape[1])\n",
        "\n",
        "        if event.shape.ndims != pred_shape.ndims:\n",
        "            raise ValueError(\"Rank mismatch: Rank of predictions (received %s) should \"\n",
        "                             \"equal rank of event (received %s)\" % (\n",
        "                pred_shape.ndims, event.shape.ndims))\n",
        "\n",
        "        if riskset.shape.ndims != 2:\n",
        "            raise ValueError(\"Rank mismatch: Rank of riskset (received %s) should \"\n",
        "                             \"be 2.\" % riskset.shape.ndims)\n",
        "\n",
        "        event = tf.cast(event, predictions.dtype)\n",
        "        predictions = safe_normalize(predictions)\n",
        "\n",
        "        with tf.name_scope(\"assertions\"):\n",
        "            assertions = (\n",
        "                tf.debugging.assert_less_equal(event, 1.),\n",
        "                tf.debugging.assert_greater_equal(event, 0.),\n",
        "                tf.debugging.assert_type(riskset, tf.bool)\n",
        "            )\n",
        "\n",
        "        # move batch dimension to the end so predictions get broadcast\n",
        "        # row-wise when multiplying by riskset\n",
        "        pred_t = tf.transpose(predictions)\n",
        "        # compute log of sum over risk set for each row\n",
        "        rr = logsumexp_masked(pred_t, riskset, axis=1, keepdims=True)\n",
        "        assert rr.shape.as_list() == predictions.shape.as_list()\n",
        "\n",
        "        losses = tf.math.multiply(event, rr - predictions)\n",
        "\n",
        "        return losses"
      ],
      "metadata": {
        "id": "SU1UxSLSHRu-"
      },
      "execution_count": 140,
      "outputs": []
    },
    {
      "cell_type": "markdown",
      "source": [
        "## Define class for calculating Harrell's C-index"
      ],
      "metadata": {
        "id": "izPFtpf3GuAy"
      }
    },
    {
      "cell_type": "code",
      "source": [
        "class CindexMetric:\n",
        "    \"\"\"Computes concordance index across one epoch.\"\"\"\n",
        "\n",
        "    def reset_states(self) -> None:\n",
        "        \"\"\"Clear the buffer of collected values.\"\"\"\n",
        "        self._data = {\n",
        "            \"label_time\": [],\n",
        "            \"label_event\": [],\n",
        "            \"prediction\": []\n",
        "        }\n",
        "\n",
        "    def update_state(self, y_true: Dict[str, tf.Tensor], y_pred: tf.Tensor) -> None:\n",
        "        \"\"\"Collect observed time, event indicator and predictions for a batch.\n",
        "\n",
        "        Parameters\n",
        "        ----------\n",
        "        y_true : dict\n",
        "            Must have two items:\n",
        "            `label_time`, a tensor containing observed time for one batch,\n",
        "            and `label_event`, a tensor containing event indicator for one batch.\n",
        "        y_pred : tf.Tensor\n",
        "            Tensor containing predicted risk score for one batch.\n",
        "        \"\"\"\n",
        "        self._data[\"label_time\"].append(y_true[\"label_time\"].numpy())\n",
        "        self._data[\"label_event\"].append(y_true[\"label_event\"].numpy())\n",
        "        self._data[\"prediction\"].append(tf.squeeze(y_pred).numpy())\n",
        "\n",
        "    def result(self) -> Dict[str, float]:\n",
        "        \"\"\"Computes the concordance index across collected values.\n",
        "\n",
        "        Returns\n",
        "        ----------\n",
        "        metrics : dict\n",
        "            Computed metrics.\n",
        "        \"\"\"\n",
        "        data = {}\n",
        "        for k, v in self._data.items():\n",
        "            data[k] = np.concatenate(v)\n",
        "\n",
        "        results = concordance_index_censored(\n",
        "            data[\"label_event\"] == 1,\n",
        "            data[\"label_time\"],\n",
        "            data[\"prediction\"])\n",
        "\n",
        "        result_data = {}\n",
        "        names = (\"cindex\", \"concordant\", \"discordant\", \"tied_risk\")\n",
        "        for k, v in zip(names, results):\n",
        "            result_data[k] = v\n",
        "\n",
        "        return result_data"
      ],
      "metadata": {
        "id": "boJQoETiS1mW"
      },
      "execution_count": 132,
      "outputs": []
    },
    {
      "cell_type": "markdown",
      "source": [
        "## Defining model architecture tensorflow graphs\n"
      ],
      "metadata": {
        "id": "i8y_rZRYGxSz"
      }
    },
    {
      "cell_type": "code",
      "source": [
        "class TrainAndEvaluateModel:\n",
        "\n",
        "    def __init__(self, model, model_dir, train_dataset, eval_dataset,\n",
        "                 learning_rate, num_epochs):\n",
        "        self.num_epochs = num_epochs\n",
        "        self.model_dir = model_dir\n",
        "\n",
        "        self.model = model\n",
        "\n",
        "        self.train_ds = train_dataset\n",
        "        self.val_ds = eval_dataset\n",
        "\n",
        "        self.optimizer = tf.keras.optimizers.Adam(learning_rate=learning_rate)\n",
        "        self.loss_fn = CoxPHLoss()\n",
        "\n",
        "        self.train_loss_metric = tf.keras.metrics.Mean(name=\"train_loss\")\n",
        "        self.val_loss_metric = tf.keras.metrics.Mean(name=\"val_loss\")\n",
        "        self.val_cindex_metric = CindexMetric()\n",
        "\n",
        "    @tf.function\n",
        "    def train_one_step(self, x, y_event, y_riskset):\n",
        "\n",
        "        y_event = tf.expand_dims(y_event, axis=1)\n",
        "\n",
        "        with tf.GradientTape() as tape:\n",
        "            logits = self.model(x, training=True)\n",
        "            train_loss = self.loss_fn(y_true=[y_event, y_riskset], y_pred=logits)\n",
        "\n",
        "        with tf.name_scope(\"gradients\"):\n",
        "            grads = tape.gradient(train_loss, self.model.trainable_weights)\n",
        "            self.optimizer.apply_gradients(zip(grads, self.model.trainable_weights))\n",
        "\n",
        "        return train_loss, logits\n",
        "\n",
        "    def train_and_evaluate(self):\n",
        "        ckpt = tf.train.Checkpoint(\n",
        "            step=tf.Variable(0, dtype=tf.int64),\n",
        "            optimizer=self.optimizer,\n",
        "            model=self.model)\n",
        "        ckpt_manager = tf.train.CheckpointManager(\n",
        "            ckpt, str(self.model_dir), max_to_keep=2)\n",
        "\n",
        "        if ckpt_manager.latest_checkpoint:\n",
        "            ckpt.restore(ckpt_manager.latest_checkpoint)\n",
        "            print(f\"Latest checkpoint restored from {ckpt_manager.latest_checkpoint}.\")\n",
        "\n",
        "        train_summary_writer = tf.summary.create_file_writer(\n",
        "            str(self.model_dir / \"train\"))\n",
        "        val_summary_writer = tf.summary.create_file_writer(\n",
        "            str(self.model_dir / \"valid\"))\n",
        "\n",
        "        for epoch in range(self.num_epochs):\n",
        "            with train_summary_writer.as_default():\n",
        "                self.train_one_epoch(ckpt.step)\n",
        "\n",
        "            # Run a validation loop at the end of each epoch.\n",
        "            with val_summary_writer.as_default():\n",
        "                self.evaluate(ckpt.step)\n",
        "\n",
        "        save_path = ckpt_manager.save()\n",
        "        print(f\"Saved checkpoint for step {ckpt.step.numpy()}: {save_path}\")\n",
        "\n",
        "    def train_one_epoch(self, step_counter):\n",
        "        for x, y in self.train_ds:\n",
        "            train_loss, logits = self.train_one_step(\n",
        "                x, y[\"label_event\"], y[\"label_riskset\"])\n",
        "\n",
        "            step = int(step_counter)\n",
        "            if step == 0:\n",
        "                # see https://stackoverflow.com/questions/58843269/display-graph-using-tensorflow-v2-0-in-tensorboard\n",
        "                func = self.train_one_step.get_concrete_function(\n",
        "                    x, y[\"label_event\"], y[\"label_riskset\"])\n",
        "                tf.summary.graph(func.graph)\n",
        "\n",
        "            # Update training metric.\n",
        "            self.train_loss_metric.update_state(train_loss)\n",
        "\n",
        "            # Log every 200 batches.\n",
        "            if step % 5 == 0:\n",
        "                # Display metrics\n",
        "                mean_loss = self.train_loss_metric.result()\n",
        "                print(f\"step {step}: mean loss = {mean_loss:.4f}\")\n",
        "                # save summaries\n",
        "                tf.summary.scalar(\"loss\", mean_loss, step=step_counter)\n",
        "                # Reset training metrics\n",
        "                self.train_loss_metric.reset_states()\n",
        "\n",
        "            step_counter.assign_add(1)\n",
        "\n",
        "    @tf.function\n",
        "    def evaluate_one_step(self, x, y_event, y_riskset):\n",
        "        y_event = tf.expand_dims(y_event, axis=1)\n",
        "        val_logits = self.model(x, training=False)\n",
        "        val_loss = self.loss_fn(y_true=[y_event, y_riskset], y_pred=val_logits)\n",
        "        return val_loss, val_logits\n",
        "\n",
        "    def evaluate(self, step_counter):\n",
        "        self.val_cindex_metric.reset_states()\n",
        "        \n",
        "        for x_val, y_val in self.val_ds:\n",
        "            val_loss, val_logits = self.evaluate_one_step(\n",
        "                x_val, y_val[\"label_event\"], y_val[\"label_riskset\"])\n",
        "\n",
        "            # Update val metrics\n",
        "            self.val_loss_metric.update_state(val_loss)\n",
        "            self.val_cindex_metric.update_state(y_val, val_logits)\n",
        "\n",
        "        val_loss = self.val_loss_metric.result()\n",
        "        tf.summary.scalar(\"loss\",\n",
        "                       val_loss,\n",
        "                       step=step_counter)\n",
        "        self.val_loss_metric.reset_states()\n",
        "        \n",
        "        val_cindex = self.val_cindex_metric.result()\n",
        "        for key, value in val_cindex.items():\n",
        "            tf.summary.scalar(key, value, step=step_counter)\n",
        "\n",
        "        print(f\"Validation: loss = {val_loss:.4f}, cindex = {val_cindex['cindex']:.4f}\")"
      ],
      "metadata": {
        "id": "LR7en3y2Urt0"
      },
      "execution_count": 133,
      "outputs": []
    },
    {
      "cell_type": "code",
      "source": [
        "def get_model(width=128, height=128, depth=64):\n",
        "    \"\"\"Build a 3D convolutional neural network model.\"\"\"\n",
        "\n",
        "    inputs = keras.Input((width, height, depth, 1))\n",
        "\n",
        "    x = layers.Conv3D(filters=64, kernel_size=3, activation=\"relu\")(inputs)\n",
        "    x = layers.MaxPool3D(pool_size=2)(x)\n",
        "    x = layers.BatchNormalization()(x)\n",
        "\n",
        "    x = layers.Conv3D(filters=64, kernel_size=3, activation=\"relu\")(x)\n",
        "    x = layers.MaxPool3D(pool_size=2)(x)\n",
        "    x = layers.BatchNormalization()(x)\n",
        "\n",
        "    x = layers.Conv3D(filters=128, kernel_size=3, activation=\"relu\")(x)\n",
        "    x = layers.MaxPool3D(pool_size=2)(x)\n",
        "    x = layers.BatchNormalization()(x)\n",
        "\n",
        "    x = layers.Conv3D(filters=256, kernel_size=3, activation=\"relu\")(x)\n",
        "    x = layers.MaxPool3D(pool_size=2)(x)\n",
        "    x = layers.BatchNormalization()(x)\n",
        "\n",
        "    x = layers.GlobalAveragePooling3D()(x)\n",
        "    x = layers.Dense(units=512, activation=\"relu\")(x)\n",
        "    x = layers.Dropout(0.3)(x)\n",
        "\n",
        "    outputs = layers.Dense(units=1, activation='linear')(x)\n",
        "\n",
        "    # Define the model.\n",
        "    model = keras.Model(inputs, outputs, name=\"3d_cnn_survival_model\")\n",
        "    return model\n",
        "\n",
        "\n",
        "# Build model.\n",
        "model = get_model(width=128, height=128, depth=64)\n",
        "model.summary()"
      ],
      "metadata": {
        "colab": {
          "base_uri": "https://localhost:8080/"
        },
        "id": "EEyq98obWxiG",
        "outputId": "a5368ecc-a9f4-41cf-9209-92756d56ddce"
      },
      "execution_count": 134,
      "outputs": [
        {
          "output_type": "stream",
          "name": "stdout",
          "text": [
            "Model: \"3d_cnn_survival_model\"\n",
            "_________________________________________________________________\n",
            " Layer (type)                Output Shape              Param #   \n",
            "=================================================================\n",
            " input_5 (InputLayer)        [(None, 128, 128, 64, 1)  0         \n",
            "                             ]                                   \n",
            "                                                                 \n",
            " conv3d_16 (Conv3D)          (None, 126, 126, 62, 64)  1792      \n",
            "                                                                 \n",
            " max_pooling3d_16 (MaxPoolin  (None, 63, 63, 31, 64)   0         \n",
            " g3D)                                                            \n",
            "                                                                 \n",
            " batch_normalization_16 (Bat  (None, 63, 63, 31, 64)   256       \n",
            " chNormalization)                                                \n",
            "                                                                 \n",
            " conv3d_17 (Conv3D)          (None, 61, 61, 29, 64)    110656    \n",
            "                                                                 \n",
            " max_pooling3d_17 (MaxPoolin  (None, 30, 30, 14, 64)   0         \n",
            " g3D)                                                            \n",
            "                                                                 \n",
            " batch_normalization_17 (Bat  (None, 30, 30, 14, 64)   256       \n",
            " chNormalization)                                                \n",
            "                                                                 \n",
            " conv3d_18 (Conv3D)          (None, 28, 28, 12, 128)   221312    \n",
            "                                                                 \n",
            " max_pooling3d_18 (MaxPoolin  (None, 14, 14, 6, 128)   0         \n",
            " g3D)                                                            \n",
            "                                                                 \n",
            " batch_normalization_18 (Bat  (None, 14, 14, 6, 128)   512       \n",
            " chNormalization)                                                \n",
            "                                                                 \n",
            " conv3d_19 (Conv3D)          (None, 12, 12, 4, 256)    884992    \n",
            "                                                                 \n",
            " max_pooling3d_19 (MaxPoolin  (None, 6, 6, 2, 256)     0         \n",
            " g3D)                                                            \n",
            "                                                                 \n",
            " batch_normalization_19 (Bat  (None, 6, 6, 2, 256)     1024      \n",
            " chNormalization)                                                \n",
            "                                                                 \n",
            " global_average_pooling3d_4   (None, 256)              0         \n",
            " (GlobalAveragePooling3D)                                        \n",
            "                                                                 \n",
            " dense_8 (Dense)             (None, 512)               131584    \n",
            "                                                                 \n",
            " dropout_4 (Dropout)         (None, 512)               0         \n",
            "                                                                 \n",
            " dense_9 (Dense)             (None, 1)                 513       \n",
            "                                                                 \n",
            "=================================================================\n",
            "Total params: 1,352,897\n",
            "Trainable params: 1,351,873\n",
            "Non-trainable params: 1,024\n",
            "_________________________________________________________________\n"
          ]
        }
      ]
    },
    {
      "cell_type": "markdown",
      "source": [
        "## Training the model"
      ],
      "metadata": {
        "id": "0b2S2qRCG1cR"
      }
    },
    {
      "cell_type": "code",
      "source": [
        "train_fn = InputFunction(X_train, y_train, event_train,\n",
        "                  drop_last=True,\n",
        "                  shuffle=True)\n",
        "\n",
        "eval_fn = InputFunction(X_val, y_val, event_val)\n",
        "\n",
        "trainer = TrainAndEvaluateModel(\n",
        "    model=model,\n",
        "    model_dir=Path(\"3d_cnn_survival_model\"),\n",
        "    train_dataset=train_fn(),\n",
        "    eval_dataset=eval_fn(),\n",
        "    learning_rate=0.0001,\n",
        "    num_epochs=15,\n",
        ")"
      ],
      "metadata": {
        "id": "nnMIL_wIX4Gd"
      },
      "execution_count": 141,
      "outputs": []
    },
    {
      "cell_type": "code",
      "source": [
        "# %load_ext tensorboard\n",
        "# %tensorboard --logdir 3d_cnn_survival_model"
      ],
      "metadata": {
        "id": "bly8m0-ohPWU"
      },
      "execution_count": null,
      "outputs": []
    },
    {
      "cell_type": "code",
      "source": [
        "trainer.train_and_evaluate()"
      ],
      "metadata": {
        "colab": {
          "base_uri": "https://localhost:8080/"
        },
        "id": "S0YGFOCVhSgr",
        "outputId": "2489f686-2348-47cc-91f3-cc14349b2e11"
      },
      "execution_count": 142,
      "outputs": [
        {
          "output_type": "stream",
          "name": "stdout",
          "text": [
            "Latest checkpoint restored from 3d_cnn_survival_model/ckpt-1.\n",
            "step 0: mean loss = 1.2229\n"
          ]
        },
        {
          "output_type": "stream",
          "name": "stderr",
          "text": [
            "WARNING:tensorflow:5 out of the last 5 calls to <function TrainAndEvaluateModel.evaluate_one_step at 0x7fd2525468b0> triggered tf.function retracing. Tracing is expensive and the excessive number of tracings could be due to (1) creating @tf.function repeatedly in a loop, (2) passing tensors with different shapes, (3) passing Python objects instead of tensors. For (1), please define your @tf.function outside of the loop. For (2), @tf.function has reduce_retracing=True option that can avoid unnecessary retracing. For (3), please refer to https://www.tensorflow.org/guide/function#controlling_retracing and https://www.tensorflow.org/api_docs/python/tf/function for  more details.\n"
          ]
        },
        {
          "output_type": "stream",
          "name": "stdout",
          "text": [
            "Validation: loss = 1.1707, cindex = 0.4667\n",
            "step 5: mean loss = 1.1954\n",
            "Validation: loss = 1.1589, cindex = 0.4667\n",
            "Validation: loss = 1.1620, cindex = 0.4667\n",
            "step 10: mean loss = 0.9114\n",
            "Validation: loss = 1.1475, cindex = 0.4667\n",
            "Validation: loss = 1.1357, cindex = 0.4667\n",
            "step 15: mean loss = 0.7920\n",
            "Validation: loss = 1.1209, cindex = 0.4667\n",
            "step 20: mean loss = 0.6810\n",
            "Validation: loss = 1.1113, cindex = 0.5333\n",
            "Validation: loss = 1.1092, cindex = 0.5333\n",
            "step 25: mean loss = 0.5293\n",
            "Validation: loss = 1.1002, cindex = 0.4667\n",
            "Validation: loss = 1.0943, cindex = 0.4667\n",
            "step 30: mean loss = 0.4915\n",
            "Validation: loss = 1.0911, cindex = 0.4667\n",
            "step 35: mean loss = 0.4188\n",
            "Validation: loss = 1.0867, cindex = 0.5333\n",
            "Validation: loss = 1.0790, cindex = 0.5333\n",
            "step 40: mean loss = 0.3243\n",
            "Validation: loss = 1.0792, cindex = 0.5333\n",
            "Validation: loss = 1.0824, cindex = 0.5333\n",
            "Saved checkpoint for step 45: 3d_cnn_survival_model/ckpt-2\n"
          ]
        }
      ]
    },
    {
      "cell_type": "markdown",
      "source": [
        "## Predict survival functions"
      ],
      "metadata": {
        "id": "R53rv_51catD"
      }
    },
    {
      "cell_type": "code",
      "source": [
        "from sklearn.model_selection import train_test_split\n",
        "from sksurv.linear_model.coxph import BreslowEstimator\n",
        "\n",
        "\n",
        "class Predictor:\n",
        "\n",
        "    def __init__(self, model, model_dir):\n",
        "        self.model = model\n",
        "        self.model_dir = model_dir\n",
        "\n",
        "    def predict(self, dataset):\n",
        "        ckpt = tf.train.Checkpoint(\n",
        "            step=tf.Variable(0, dtype=tf.int64),\n",
        "            optimizer=tf.keras.optimizers.Adam(),\n",
        "            model=self.model)\n",
        "        ckpt_manager = tf.train.CheckpointManager(\n",
        "            ckpt, str(self.model_dir), max_to_keep=2)\n",
        "\n",
        "        if ckpt_manager.latest_checkpoint:\n",
        "            ckpt.restore(ckpt_manager.latest_checkpoint).expect_partial()\n",
        "            print(f\"Latest checkpoint restored from {ckpt_manager.latest_checkpoint}.\")\n",
        "\n",
        "        risk_scores = []\n",
        "        for batch in dataset:\n",
        "            pred = self.model(batch, training=False)\n",
        "            risk_scores.append(pred.numpy())\n",
        "\n",
        "        return np.row_stack(risk_scores)"
      ],
      "metadata": {
        "id": "ElI7EWVkcc-0"
      },
      "execution_count": 143,
      "outputs": []
    },
    {
      "cell_type": "code",
      "source": [
        "train_pred_fn = tf.data.Dataset.from_tensor_slices(X_train).batch(8)\n",
        "\n",
        "predictor = Predictor(model, trainer.model_dir)\n",
        "train_predictions = predictor.predict(train_pred_fn)\n",
        "\n",
        "breslow = BreslowEstimator().fit(train_predictions, event_train, y_train)"
      ],
      "metadata": {
        "colab": {
          "base_uri": "https://localhost:8080/"
        },
        "id": "yt8TlRuzclJt",
        "outputId": "2f833fc5-2127-4508-bf13-5b7056d7c96c"
      },
      "execution_count": 144,
      "outputs": [
        {
          "output_type": "stream",
          "name": "stdout",
          "text": [
            "Latest checkpoint restored from 3d_cnn_survival_model/ckpt-2.\n"
          ]
        }
      ]
    },
    {
      "cell_type": "code",
      "source": [
        "pred_ds = tf.data.Dataset.from_tensor_slices(\n",
        "    X_test).batch(8)\n",
        "test_predictions = predictor.predict(pred_ds)\n",
        "\n",
        "sample_surv_fn = breslow.get_survival_function(test_predictions)\n",
        "\n",
        "plt.figure(figsize=(6, 4.5))\n",
        "for surv_fn, class_label in zip(sample_surv_fn, y_test):\n",
        "    plt.step(surv_fn.x, surv_fn.y, where=\"post\",\n",
        "             color=f\"C{class_label}\")\n",
        "\n",
        "plt.ylim(0, 1)\n",
        "plt.ylabel(\"Probability of survival $P(T > t)$\")\n",
        "plt.xlabel(\"Time $t$\")\n",
        "plt.grid()"
      ],
      "metadata": {
        "colab": {
          "base_uri": "https://localhost:8080/",
          "height": 330
        },
        "id": "q5589AX61Q4H",
        "outputId": "8f7c6fee-1797-46f5-a782-b7535049e3a5"
      },
      "execution_count": 146,
      "outputs": [
        {
          "output_type": "stream",
          "name": "stdout",
          "text": [
            "Latest checkpoint restored from 3d_cnn_survival_model/ckpt-2.\n"
          ]
        },
        {
          "output_type": "display_data",
          "data": {
            "text/plain": [
              "<Figure size 432x324 with 1 Axes>"
            ],
            "image/png": "[encoded data removed]"
          },
          "metadata": {
            "needs_background": "light"
          }
        }
      ]
    }
  ]
}